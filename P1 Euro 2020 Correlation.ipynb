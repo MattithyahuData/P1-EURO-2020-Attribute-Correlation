{
 "cells": [
  {
   "cell_type": "code",
   "execution_count": 1,
   "metadata": {},
   "outputs": [
    {
     "name": "stdout",
     "output_type": "stream",
     "text": [
      "Created: Sun Oct 24 01:54:01 2021\n",
      "Last modified: Thu Oct 28 09:09:32 2021\n",
      "Author: Mattithyahu\n"
     ]
    }
   ],
   "source": [
    "# TIME STAMP\n",
    "import os\n",
    "import time\n",
    "\n",
    "def watermark(path):\n",
    "    # import os.path, time\n",
    "    print(\"Created: %s\" % time.ctime(os.path.getctime(path)))\n",
    "    print(\"Last modified: %s\" % time.ctime(os.path.getmtime(path)))\n",
    "    print(\"Author: Mattithyahu\")\n",
    "\n",
    "# Always remember to use unicode escape for backslashes\n",
    "watermark(\"P1 Euro 2020 Correlation.ipynb\")"
   ]
  },
  {
   "cell_type": "code",
   "execution_count": 2,
   "metadata": {},
   "outputs": [],
   "source": [
    "# Plan everything and order codes into blocks and explain each section\n",
    "# Automated Webscraping\n",
    "\n",
    "# Webscrape ranking read into dataframe \n",
    "# Clean data \n",
    "# Once clean store in csv files\n",
    "# Webscrap team values into dataframe - JOIN  on country \n",
    "# Correlation - Scatter plot \n",
    "# Rank on y, Value on x "
   ]
  },
  {
   "cell_type": "code",
   "execution_count": 3,
   "metadata": {},
   "outputs": [
    {
     "data": {
      "text/html": [
       "<div>\n",
       "<style scoped>\n",
       "    .dataframe tbody tr th:only-of-type {\n",
       "        vertical-align: middle;\n",
       "    }\n",
       "\n",
       "    .dataframe tbody tr th {\n",
       "        vertical-align: top;\n",
       "    }\n",
       "\n",
       "    .dataframe thead th {\n",
       "        text-align: right;\n",
       "    }\n",
       "</style>\n",
       "<table border=\"1\" class=\"dataframe\">\n",
       "  <thead>\n",
       "    <tr style=\"text-align: right;\">\n",
       "      <th></th>\n",
       "      <th>Rk</th>\n",
       "      <th>MP</th>\n",
       "      <th>W</th>\n",
       "      <th>D</th>\n",
       "      <th>L</th>\n",
       "      <th>GF</th>\n",
       "      <th>GA</th>\n",
       "      <th>GD</th>\n",
       "      <th>Pts</th>\n",
       "      <th>xG</th>\n",
       "      <th>xGA</th>\n",
       "      <th>xGD</th>\n",
       "      <th>xGD/90</th>\n",
       "      <th>Top Team Scorer</th>\n",
       "      <th>Goalkeeper</th>\n",
       "      <th>Team</th>\n",
       "    </tr>\n",
       "  </thead>\n",
       "  <tbody>\n",
       "    <tr>\n",
       "      <th>0</th>\n",
       "      <td>F</td>\n",
       "      <td>7.0</td>\n",
       "      <td>5.0</td>\n",
       "      <td>2.0</td>\n",
       "      <td>0.0</td>\n",
       "      <td>11.0</td>\n",
       "      <td>2.0</td>\n",
       "      <td>9.0</td>\n",
       "      <td>17.0</td>\n",
       "      <td>8.0</td>\n",
       "      <td>5.5</td>\n",
       "      <td>2.4</td>\n",
       "      <td>0.32</td>\n",
       "      <td>Harry Kane - 4</td>\n",
       "      <td>Jordan Pickford</td>\n",
       "      <td>England</td>\n",
       "    </tr>\n",
       "    <tr>\n",
       "      <th>1</th>\n",
       "      <td>F</td>\n",
       "      <td>7.0</td>\n",
       "      <td>5.0</td>\n",
       "      <td>2.0</td>\n",
       "      <td>0.0</td>\n",
       "      <td>13.0</td>\n",
       "      <td>4.0</td>\n",
       "      <td>9.0</td>\n",
       "      <td>17.0</td>\n",
       "      <td>11.0</td>\n",
       "      <td>5.9</td>\n",
       "      <td>5.1</td>\n",
       "      <td>0.63</td>\n",
       "      <td>Matteo Pessina, Manuel Locatelli... - 2</td>\n",
       "      <td>Gianluigi Donnarumma</td>\n",
       "      <td>Italy</td>\n",
       "    </tr>\n",
       "    <tr>\n",
       "      <th>3</th>\n",
       "      <td>SF</td>\n",
       "      <td>6.0</td>\n",
       "      <td>2.0</td>\n",
       "      <td>4.0</td>\n",
       "      <td>0.0</td>\n",
       "      <td>13.0</td>\n",
       "      <td>6.0</td>\n",
       "      <td>7.0</td>\n",
       "      <td>10.0</td>\n",
       "      <td>15.3</td>\n",
       "      <td>5.6</td>\n",
       "      <td>9.6</td>\n",
       "      <td>1.37</td>\n",
       "      <td>Álvaro Morata - 3</td>\n",
       "      <td>Unai Simón</td>\n",
       "      <td>Spain</td>\n",
       "    </tr>\n",
       "    <tr>\n",
       "      <th>4</th>\n",
       "      <td>SF</td>\n",
       "      <td>6.0</td>\n",
       "      <td>3.0</td>\n",
       "      <td>0.0</td>\n",
       "      <td>3.0</td>\n",
       "      <td>12.0</td>\n",
       "      <td>7.0</td>\n",
       "      <td>5.0</td>\n",
       "      <td>9.0</td>\n",
       "      <td>9.4</td>\n",
       "      <td>7.0</td>\n",
       "      <td>2.3</td>\n",
       "      <td>0.37</td>\n",
       "      <td>Kasper Dolberg - 3</td>\n",
       "      <td>Kasper Schmeichel</td>\n",
       "      <td>Denmark</td>\n",
       "    </tr>\n",
       "    <tr>\n",
       "      <th>6</th>\n",
       "      <td>QF</td>\n",
       "      <td>5.0</td>\n",
       "      <td>4.0</td>\n",
       "      <td>0.0</td>\n",
       "      <td>1.0</td>\n",
       "      <td>9.0</td>\n",
       "      <td>3.0</td>\n",
       "      <td>6.0</td>\n",
       "      <td>12.0</td>\n",
       "      <td>6.0</td>\n",
       "      <td>4.9</td>\n",
       "      <td>1.1</td>\n",
       "      <td>0.23</td>\n",
       "      <td>Romelu Lukaku - 4</td>\n",
       "      <td>Thibaut Courtois</td>\n",
       "      <td>Belgium</td>\n",
       "    </tr>\n",
       "    <tr>\n",
       "      <th>7</th>\n",
       "      <td>QF</td>\n",
       "      <td>5.0</td>\n",
       "      <td>2.0</td>\n",
       "      <td>1.0</td>\n",
       "      <td>2.0</td>\n",
       "      <td>6.0</td>\n",
       "      <td>4.0</td>\n",
       "      <td>2.0</td>\n",
       "      <td>7.0</td>\n",
       "      <td>5.4</td>\n",
       "      <td>5.9</td>\n",
       "      <td>-0.5</td>\n",
       "      <td>-0.09</td>\n",
       "      <td>Patrik Schick - 5</td>\n",
       "      <td>Tomáš Vaclík</td>\n",
       "      <td>Czech Republic</td>\n",
       "    </tr>\n",
       "    <tr>\n",
       "      <th>8</th>\n",
       "      <td>QF</td>\n",
       "      <td>5.0</td>\n",
       "      <td>1.0</td>\n",
       "      <td>3.0</td>\n",
       "      <td>1.0</td>\n",
       "      <td>8.0</td>\n",
       "      <td>9.0</td>\n",
       "      <td>-1.0</td>\n",
       "      <td>6.0</td>\n",
       "      <td>6.6</td>\n",
       "      <td>9.5</td>\n",
       "      <td>-2.9</td>\n",
       "      <td>-0.51</td>\n",
       "      <td>Haris Seferović, Xherdan Shaqiri - 3</td>\n",
       "      <td>Yann Sommer</td>\n",
       "      <td>Switzerland</td>\n",
       "    </tr>\n",
       "    <tr>\n",
       "      <th>9</th>\n",
       "      <td>QF</td>\n",
       "      <td>5.0</td>\n",
       "      <td>2.0</td>\n",
       "      <td>0.0</td>\n",
       "      <td>3.0</td>\n",
       "      <td>6.0</td>\n",
       "      <td>10.0</td>\n",
       "      <td>-4.0</td>\n",
       "      <td>6.0</td>\n",
       "      <td>6.3</td>\n",
       "      <td>6.7</td>\n",
       "      <td>-0.4</td>\n",
       "      <td>-0.07</td>\n",
       "      <td>Andriy Yarmolenko, Roman Yaremchuk - 2</td>\n",
       "      <td>Heorhiy Bushchan</td>\n",
       "      <td>Ukraine</td>\n",
       "    </tr>\n",
       "    <tr>\n",
       "      <th>11</th>\n",
       "      <td>R16</td>\n",
       "      <td>4.0</td>\n",
       "      <td>3.0</td>\n",
       "      <td>0.0</td>\n",
       "      <td>1.0</td>\n",
       "      <td>8.0</td>\n",
       "      <td>4.0</td>\n",
       "      <td>4.0</td>\n",
       "      <td>9.0</td>\n",
       "      <td>8.5</td>\n",
       "      <td>2.9</td>\n",
       "      <td>5.5</td>\n",
       "      <td>1.39</td>\n",
       "      <td>Georginio Wijnaldum - 3</td>\n",
       "      <td>Maarten Stekelenburg</td>\n",
       "      <td>Netherlands</td>\n",
       "    </tr>\n",
       "    <tr>\n",
       "      <th>12</th>\n",
       "      <td>R16</td>\n",
       "      <td>4.0</td>\n",
       "      <td>2.0</td>\n",
       "      <td>1.0</td>\n",
       "      <td>1.0</td>\n",
       "      <td>5.0</td>\n",
       "      <td>4.0</td>\n",
       "      <td>1.0</td>\n",
       "      <td>7.0</td>\n",
       "      <td>5.0</td>\n",
       "      <td>5.3</td>\n",
       "      <td>-0.3</td>\n",
       "      <td>-0.07</td>\n",
       "      <td>Emil Forsberg - 4</td>\n",
       "      <td>Robin Olsen</td>\n",
       "      <td>Sweden</td>\n",
       "    </tr>\n",
       "    <tr>\n",
       "      <th>13</th>\n",
       "      <td>R16</td>\n",
       "      <td>4.0</td>\n",
       "      <td>1.0</td>\n",
       "      <td>3.0</td>\n",
       "      <td>0.0</td>\n",
       "      <td>7.0</td>\n",
       "      <td>6.0</td>\n",
       "      <td>1.0</td>\n",
       "      <td>6.0</td>\n",
       "      <td>6.6</td>\n",
       "      <td>4.6</td>\n",
       "      <td>2.0</td>\n",
       "      <td>0.46</td>\n",
       "      <td>Karim Benzema - 4</td>\n",
       "      <td>Hugo Lloris</td>\n",
       "      <td>France</td>\n",
       "    </tr>\n",
       "    <tr>\n",
       "      <th>14</th>\n",
       "      <td>R16</td>\n",
       "      <td>4.0</td>\n",
       "      <td>2.0</td>\n",
       "      <td>0.0</td>\n",
       "      <td>2.0</td>\n",
       "      <td>5.0</td>\n",
       "      <td>5.0</td>\n",
       "      <td>0.0</td>\n",
       "      <td>6.0</td>\n",
       "      <td>4.4</td>\n",
       "      <td>5.9</td>\n",
       "      <td>-1.5</td>\n",
       "      <td>-0.35</td>\n",
       "      <td>Christoph Baumgartner, Marko Arnautović... - 1</td>\n",
       "      <td>Daniel Bachmann</td>\n",
       "      <td>Austria</td>\n",
       "    </tr>\n",
       "    <tr>\n",
       "      <th>15</th>\n",
       "      <td>R16</td>\n",
       "      <td>4.0</td>\n",
       "      <td>1.0</td>\n",
       "      <td>1.0</td>\n",
       "      <td>2.0</td>\n",
       "      <td>7.0</td>\n",
       "      <td>7.0</td>\n",
       "      <td>0.0</td>\n",
       "      <td>4.0</td>\n",
       "      <td>7.6</td>\n",
       "      <td>4.2</td>\n",
       "      <td>3.4</td>\n",
       "      <td>0.86</td>\n",
       "      <td>Cristiano Ronaldo - 5</td>\n",
       "      <td>Rui Patrício</td>\n",
       "      <td>Portugal</td>\n",
       "    </tr>\n",
       "    <tr>\n",
       "      <th>16</th>\n",
       "      <td>R16</td>\n",
       "      <td>4.0</td>\n",
       "      <td>1.0</td>\n",
       "      <td>1.0</td>\n",
       "      <td>2.0</td>\n",
       "      <td>7.0</td>\n",
       "      <td>8.0</td>\n",
       "      <td>-1.0</td>\n",
       "      <td>4.0</td>\n",
       "      <td>4.5</td>\n",
       "      <td>7.5</td>\n",
       "      <td>-3.0</td>\n",
       "      <td>-0.69</td>\n",
       "      <td>Ivan Perišić - 2</td>\n",
       "      <td>Dominik Livaković</td>\n",
       "      <td>Croatia</td>\n",
       "    </tr>\n",
       "    <tr>\n",
       "      <th>17</th>\n",
       "      <td>R16</td>\n",
       "      <td>4.0</td>\n",
       "      <td>1.0</td>\n",
       "      <td>1.0</td>\n",
       "      <td>2.0</td>\n",
       "      <td>6.0</td>\n",
       "      <td>7.0</td>\n",
       "      <td>-1.0</td>\n",
       "      <td>4.0</td>\n",
       "      <td>6.5</td>\n",
       "      <td>4.1</td>\n",
       "      <td>2.4</td>\n",
       "      <td>0.60</td>\n",
       "      <td>Kai Havertz - 2</td>\n",
       "      <td>Manuel Neuer</td>\n",
       "      <td>Germany</td>\n",
       "    </tr>\n",
       "    <tr>\n",
       "      <th>18</th>\n",
       "      <td>R16</td>\n",
       "      <td>4.0</td>\n",
       "      <td>1.0</td>\n",
       "      <td>1.0</td>\n",
       "      <td>2.0</td>\n",
       "      <td>3.0</td>\n",
       "      <td>6.0</td>\n",
       "      <td>-3.0</td>\n",
       "      <td>4.0</td>\n",
       "      <td>4.6</td>\n",
       "      <td>6.5</td>\n",
       "      <td>-1.9</td>\n",
       "      <td>-0.47</td>\n",
       "      <td>Kieffer Moore, Connor Roberts... - 1</td>\n",
       "      <td>Danny Ward</td>\n",
       "      <td>Wales</td>\n",
       "    </tr>\n",
       "    <tr>\n",
       "      <th>20</th>\n",
       "      <td>GR</td>\n",
       "      <td>3.0</td>\n",
       "      <td>1.0</td>\n",
       "      <td>0.0</td>\n",
       "      <td>2.0</td>\n",
       "      <td>1.0</td>\n",
       "      <td>3.0</td>\n",
       "      <td>-2.0</td>\n",
       "      <td>3.0</td>\n",
       "      <td>1.7</td>\n",
       "      <td>4.5</td>\n",
       "      <td>-2.9</td>\n",
       "      <td>-0.95</td>\n",
       "      <td>Joel Pohjanpalo - 1</td>\n",
       "      <td>Lukáš Hrádecký</td>\n",
       "      <td>Finland</td>\n",
       "    </tr>\n",
       "    <tr>\n",
       "      <th>21</th>\n",
       "      <td>GR</td>\n",
       "      <td>3.0</td>\n",
       "      <td>1.0</td>\n",
       "      <td>0.0</td>\n",
       "      <td>2.0</td>\n",
       "      <td>2.0</td>\n",
       "      <td>7.0</td>\n",
       "      <td>-5.0</td>\n",
       "      <td>3.0</td>\n",
       "      <td>2.7</td>\n",
       "      <td>4.8</td>\n",
       "      <td>-2.1</td>\n",
       "      <td>-0.69</td>\n",
       "      <td>Aleksei Miranchuk, Artem Dzyuba - 1</td>\n",
       "      <td>Matvei Safonov</td>\n",
       "      <td>Russia</td>\n",
       "    </tr>\n",
       "    <tr>\n",
       "      <th>22</th>\n",
       "      <td>GR</td>\n",
       "      <td>3.0</td>\n",
       "      <td>1.0</td>\n",
       "      <td>0.0</td>\n",
       "      <td>2.0</td>\n",
       "      <td>2.0</td>\n",
       "      <td>7.0</td>\n",
       "      <td>-5.0</td>\n",
       "      <td>3.0</td>\n",
       "      <td>0.9</td>\n",
       "      <td>6.2</td>\n",
       "      <td>-5.2</td>\n",
       "      <td>-1.75</td>\n",
       "      <td>Milan Škriniar - 1</td>\n",
       "      <td>Martin Dúbravka</td>\n",
       "      <td>Slovakia</td>\n",
       "    </tr>\n",
       "    <tr>\n",
       "      <th>23</th>\n",
       "      <td>GR</td>\n",
       "      <td>3.0</td>\n",
       "      <td>0.0</td>\n",
       "      <td>2.0</td>\n",
       "      <td>1.0</td>\n",
       "      <td>3.0</td>\n",
       "      <td>6.0</td>\n",
       "      <td>-3.0</td>\n",
       "      <td>2.0</td>\n",
       "      <td>1.2</td>\n",
       "      <td>6.5</td>\n",
       "      <td>-5.2</td>\n",
       "      <td>-1.75</td>\n",
       "      <td>Ádám Szalai, András Schäfer... - 1</td>\n",
       "      <td>Péter Gulácsi</td>\n",
       "      <td>Hungary</td>\n",
       "    </tr>\n",
       "    <tr>\n",
       "      <th>24</th>\n",
       "      <td>GR</td>\n",
       "      <td>3.0</td>\n",
       "      <td>0.0</td>\n",
       "      <td>1.0</td>\n",
       "      <td>2.0</td>\n",
       "      <td>4.0</td>\n",
       "      <td>6.0</td>\n",
       "      <td>-2.0</td>\n",
       "      <td>1.0</td>\n",
       "      <td>3.3</td>\n",
       "      <td>3.5</td>\n",
       "      <td>-0.2</td>\n",
       "      <td>-0.06</td>\n",
       "      <td>Robert Lewandowski - 3</td>\n",
       "      <td>Wojciech Szczęsny</td>\n",
       "      <td>Poland</td>\n",
       "    </tr>\n",
       "    <tr>\n",
       "      <th>25</th>\n",
       "      <td>GR</td>\n",
       "      <td>3.0</td>\n",
       "      <td>0.0</td>\n",
       "      <td>1.0</td>\n",
       "      <td>2.0</td>\n",
       "      <td>1.0</td>\n",
       "      <td>5.0</td>\n",
       "      <td>-4.0</td>\n",
       "      <td>1.0</td>\n",
       "      <td>3.8</td>\n",
       "      <td>2.5</td>\n",
       "      <td>1.3</td>\n",
       "      <td>0.43</td>\n",
       "      <td>Callum McGregor - 1</td>\n",
       "      <td>David Marshall</td>\n",
       "      <td>Scotland</td>\n",
       "    </tr>\n",
       "    <tr>\n",
       "      <th>26</th>\n",
       "      <td>GR</td>\n",
       "      <td>3.0</td>\n",
       "      <td>0.0</td>\n",
       "      <td>0.0</td>\n",
       "      <td>3.0</td>\n",
       "      <td>2.0</td>\n",
       "      <td>8.0</td>\n",
       "      <td>-6.0</td>\n",
       "      <td>0.0</td>\n",
       "      <td>2.9</td>\n",
       "      <td>8.0</td>\n",
       "      <td>-5.1</td>\n",
       "      <td>-1.70</td>\n",
       "      <td>Goran Pandev, Ezgjan Alioski - 1</td>\n",
       "      <td>Stole Dimitrievski</td>\n",
       "      <td>North Macedonia</td>\n",
       "    </tr>\n",
       "    <tr>\n",
       "      <th>27</th>\n",
       "      <td>GR</td>\n",
       "      <td>3.0</td>\n",
       "      <td>0.0</td>\n",
       "      <td>0.0</td>\n",
       "      <td>3.0</td>\n",
       "      <td>1.0</td>\n",
       "      <td>8.0</td>\n",
       "      <td>-7.0</td>\n",
       "      <td>0.0</td>\n",
       "      <td>2.7</td>\n",
       "      <td>6.9</td>\n",
       "      <td>-4.2</td>\n",
       "      <td>-1.38</td>\n",
       "      <td>İrfan Kahveci - 1</td>\n",
       "      <td>Uğurcan Çakır</td>\n",
       "      <td>Turkey</td>\n",
       "    </tr>\n",
       "  </tbody>\n",
       "</table>\n",
       "</div>"
      ],
      "text/plain": [
       "     Rk   MP    W    D    L    GF    GA   GD   Pts    xG  xGA  xGD  xGD/90  \\\n",
       "0     F  7.0  5.0  2.0  0.0  11.0   2.0  9.0  17.0   8.0  5.5  2.4    0.32   \n",
       "1     F  7.0  5.0  2.0  0.0  13.0   4.0  9.0  17.0  11.0  5.9  5.1    0.63   \n",
       "3    SF  6.0  2.0  4.0  0.0  13.0   6.0  7.0  10.0  15.3  5.6  9.6    1.37   \n",
       "4    SF  6.0  3.0  0.0  3.0  12.0   7.0  5.0   9.0   9.4  7.0  2.3    0.37   \n",
       "6    QF  5.0  4.0  0.0  1.0   9.0   3.0  6.0  12.0   6.0  4.9  1.1    0.23   \n",
       "7    QF  5.0  2.0  1.0  2.0   6.0   4.0  2.0   7.0   5.4  5.9 -0.5   -0.09   \n",
       "8    QF  5.0  1.0  3.0  1.0   8.0   9.0 -1.0   6.0   6.6  9.5 -2.9   -0.51   \n",
       "9    QF  5.0  2.0  0.0  3.0   6.0  10.0 -4.0   6.0   6.3  6.7 -0.4   -0.07   \n",
       "11  R16  4.0  3.0  0.0  1.0   8.0   4.0  4.0   9.0   8.5  2.9  5.5    1.39   \n",
       "12  R16  4.0  2.0  1.0  1.0   5.0   4.0  1.0   7.0   5.0  5.3 -0.3   -0.07   \n",
       "13  R16  4.0  1.0  3.0  0.0   7.0   6.0  1.0   6.0   6.6  4.6  2.0    0.46   \n",
       "14  R16  4.0  2.0  0.0  2.0   5.0   5.0  0.0   6.0   4.4  5.9 -1.5   -0.35   \n",
       "15  R16  4.0  1.0  1.0  2.0   7.0   7.0  0.0   4.0   7.6  4.2  3.4    0.86   \n",
       "16  R16  4.0  1.0  1.0  2.0   7.0   8.0 -1.0   4.0   4.5  7.5 -3.0   -0.69   \n",
       "17  R16  4.0  1.0  1.0  2.0   6.0   7.0 -1.0   4.0   6.5  4.1  2.4    0.60   \n",
       "18  R16  4.0  1.0  1.0  2.0   3.0   6.0 -3.0   4.0   4.6  6.5 -1.9   -0.47   \n",
       "20   GR  3.0  1.0  0.0  2.0   1.0   3.0 -2.0   3.0   1.7  4.5 -2.9   -0.95   \n",
       "21   GR  3.0  1.0  0.0  2.0   2.0   7.0 -5.0   3.0   2.7  4.8 -2.1   -0.69   \n",
       "22   GR  3.0  1.0  0.0  2.0   2.0   7.0 -5.0   3.0   0.9  6.2 -5.2   -1.75   \n",
       "23   GR  3.0  0.0  2.0  1.0   3.0   6.0 -3.0   2.0   1.2  6.5 -5.2   -1.75   \n",
       "24   GR  3.0  0.0  1.0  2.0   4.0   6.0 -2.0   1.0   3.3  3.5 -0.2   -0.06   \n",
       "25   GR  3.0  0.0  1.0  2.0   1.0   5.0 -4.0   1.0   3.8  2.5  1.3    0.43   \n",
       "26   GR  3.0  0.0  0.0  3.0   2.0   8.0 -6.0   0.0   2.9  8.0 -5.1   -1.70   \n",
       "27   GR  3.0  0.0  0.0  3.0   1.0   8.0 -7.0   0.0   2.7  6.9 -4.2   -1.38   \n",
       "\n",
       "                                   Top Team Scorer            Goalkeeper  \\\n",
       "0                                   Harry Kane - 4       Jordan Pickford   \n",
       "1          Matteo Pessina, Manuel Locatelli... - 2  Gianluigi Donnarumma   \n",
       "3                                Álvaro Morata - 3            Unai Simón   \n",
       "4                               Kasper Dolberg - 3     Kasper Schmeichel   \n",
       "6                                Romelu Lukaku - 4      Thibaut Courtois   \n",
       "7                                Patrik Schick - 5          Tomáš Vaclík   \n",
       "8             Haris Seferović, Xherdan Shaqiri - 3           Yann Sommer   \n",
       "9           Andriy Yarmolenko, Roman Yaremchuk - 2      Heorhiy Bushchan   \n",
       "11                         Georginio Wijnaldum - 3  Maarten Stekelenburg   \n",
       "12                               Emil Forsberg - 4           Robin Olsen   \n",
       "13                               Karim Benzema - 4           Hugo Lloris   \n",
       "14  Christoph Baumgartner, Marko Arnautović... - 1       Daniel Bachmann   \n",
       "15                           Cristiano Ronaldo - 5          Rui Patrício   \n",
       "16                                Ivan Perišić - 2     Dominik Livaković   \n",
       "17                                 Kai Havertz - 2          Manuel Neuer   \n",
       "18            Kieffer Moore, Connor Roberts... - 1            Danny Ward   \n",
       "20                             Joel Pohjanpalo - 1        Lukáš Hrádecký   \n",
       "21             Aleksei Miranchuk, Artem Dzyuba - 1        Matvei Safonov   \n",
       "22                              Milan Škriniar - 1       Martin Dúbravka   \n",
       "23              Ádám Szalai, András Schäfer... - 1         Péter Gulácsi   \n",
       "24                          Robert Lewandowski - 3     Wojciech Szczęsny   \n",
       "25                             Callum McGregor - 1        David Marshall   \n",
       "26                Goran Pandev, Ezgjan Alioski - 1    Stole Dimitrievski   \n",
       "27                               İrfan Kahveci - 1         Uğurcan Çakır   \n",
       "\n",
       "               Team  \n",
       "0           England  \n",
       "1             Italy  \n",
       "3             Spain  \n",
       "4           Denmark  \n",
       "6           Belgium  \n",
       "7    Czech Republic  \n",
       "8       Switzerland  \n",
       "9           Ukraine  \n",
       "11      Netherlands  \n",
       "12           Sweden  \n",
       "13           France  \n",
       "14          Austria  \n",
       "15         Portugal  \n",
       "16          Croatia  \n",
       "17          Germany  \n",
       "18            Wales  \n",
       "20          Finland  \n",
       "21           Russia  \n",
       "22         Slovakia  \n",
       "23          Hungary  \n",
       "24           Poland  \n",
       "25         Scotland  \n",
       "26  North Macedonia  \n",
       "27           Turkey  "
      ]
     },
     "execution_count": 3,
     "metadata": {},
     "output_type": "execute_result"
    }
   ],
   "source": [
    "# TABLE 1 \n",
    "\n",
    "import pandas as pd\n",
    "\n",
    "url = \"https://fbref.com/en/comps/676/UEFA-Euro-Stats#all_results1027811\"\n",
    "dfs = pd.read_html(url)\n",
    "\n",
    "# Becasue there is only one table on the page with len == 28\n",
    "for df in dfs:\n",
    "    if len(df) >= 28:\n",
    "        the_one = df\n",
    "        break\n",
    "\n",
    "df = the_one \n",
    "\n",
    "# Cleaning Data\n",
    "\n",
    "# Deleting notes column\n",
    "# df = df.drop('Notes', 1)\n",
    "# where 1 is the axis number (0 for rows and 1 for columns.)\n",
    "# To delete the column without having to reassign df you can do:\n",
    "# Column to be deleted defined as 'Notes'. \n",
    "df.drop('Notes', axis=1, inplace=True)\n",
    "\n",
    "# After column with all Null values taken out using dropna takes out any rows where null values exist \n",
    "# inplace=True replaces the df with the new aggregation \n",
    "df.dropna(inplace=True)\n",
    "\n",
    "\n",
    "df[['col1', 'col2']] = df['Squad'].str.split(n=1, expand=True)\n",
    "# When using expand=True, the split elements will expand out into separate columns. If NaN is present, it is propagated throughout the columns during the split.\n",
    "\n",
    "# Deleting squad column as it doesnt provide any useful information AND renaming split column to Team\n",
    "df.drop('Squad', axis=1, inplace=True)\n",
    "df.drop('col1', axis=1, inplace=True)\n",
    "df = df.rename(columns={\"col2\": \"Team\"})\n",
    "\n",
    "# saving scraped df to csv \n",
    "df.to_csv('C:/Users/matti/OneDrive/MyProjects/Data/P1 Euro 2020 Correlation/Team playing stats.csv', index=False)\n",
    "\n",
    "df"
   ]
  },
  {
   "cell_type": "code",
   "execution_count": 4,
   "metadata": {},
   "outputs": [
    {
     "data": {
      "text/html": [
       "<div>\n",
       "<style scoped>\n",
       "    .dataframe tbody tr th:only-of-type {\n",
       "        vertical-align: middle;\n",
       "    }\n",
       "\n",
       "    .dataframe tbody tr th {\n",
       "        vertical-align: top;\n",
       "    }\n",
       "\n",
       "    .dataframe thead th {\n",
       "        text-align: right;\n",
       "    }\n",
       "</style>\n",
       "<table border=\"1\" class=\"dataframe\">\n",
       "  <thead>\n",
       "    <tr style=\"text-align: right;\">\n",
       "      <th></th>\n",
       "      <th>Team</th>\n",
       "      <th>avg_age</th>\n",
       "      <th>market_value</th>\n",
       "      <th>avg_market_value</th>\n",
       "    </tr>\n",
       "  </thead>\n",
       "  <tbody>\n",
       "    <tr>\n",
       "      <th>0</th>\n",
       "      <td>England</td>\n",
       "      <td>24</td>\n",
       "      <td>£1.03bn</td>\n",
       "      <td>£42.75m</td>\n",
       "    </tr>\n",
       "    <tr>\n",
       "      <th>1</th>\n",
       "      <td>France</td>\n",
       "      <td>23</td>\n",
       "      <td>£877.32m</td>\n",
       "      <td>£38.14m</td>\n",
       "    </tr>\n",
       "    <tr>\n",
       "      <th>2</th>\n",
       "      <td>Germany</td>\n",
       "      <td>23</td>\n",
       "      <td>£808.65m</td>\n",
       "      <td>£35.16m</td>\n",
       "    </tr>\n",
       "    <tr>\n",
       "      <th>3</th>\n",
       "      <td>Spain</td>\n",
       "      <td>23</td>\n",
       "      <td>£635.40m</td>\n",
       "      <td>£27.63m</td>\n",
       "    </tr>\n",
       "    <tr>\n",
       "      <th>4</th>\n",
       "      <td>Italy</td>\n",
       "      <td>22</td>\n",
       "      <td>£629.10m</td>\n",
       "      <td>£28.60m</td>\n",
       "    </tr>\n",
       "    <tr>\n",
       "      <th>5</th>\n",
       "      <td>Netherlands</td>\n",
       "      <td>27</td>\n",
       "      <td>£617.85m</td>\n",
       "      <td>£22.88m</td>\n",
       "    </tr>\n",
       "    <tr>\n",
       "      <th>6</th>\n",
       "      <td>Portugal</td>\n",
       "      <td>23</td>\n",
       "      <td>£593.55m</td>\n",
       "      <td>£25.81m</td>\n",
       "    </tr>\n",
       "    <tr>\n",
       "      <th>7</th>\n",
       "      <td>Belgium</td>\n",
       "      <td>20</td>\n",
       "      <td>£448.20m</td>\n",
       "      <td>£22.41m</td>\n",
       "    </tr>\n",
       "    <tr>\n",
       "      <th>8</th>\n",
       "      <td>Croatia</td>\n",
       "      <td>24</td>\n",
       "      <td>£292.50m</td>\n",
       "      <td>£12.19m</td>\n",
       "    </tr>\n",
       "    <tr>\n",
       "      <th>9</th>\n",
       "      <td>Denmark</td>\n",
       "      <td>23</td>\n",
       "      <td>£266.18m</td>\n",
       "      <td>£11.57m</td>\n",
       "    </tr>\n",
       "    <tr>\n",
       "      <th>10</th>\n",
       "      <td>Turkey</td>\n",
       "      <td>24</td>\n",
       "      <td>£264.24m</td>\n",
       "      <td>£11.01m</td>\n",
       "    </tr>\n",
       "    <tr>\n",
       "      <th>11</th>\n",
       "      <td>Poland</td>\n",
       "      <td>25</td>\n",
       "      <td>£235.35m</td>\n",
       "      <td>£9.41m</td>\n",
       "    </tr>\n",
       "    <tr>\n",
       "      <th>12</th>\n",
       "      <td>Scotland</td>\n",
       "      <td>26</td>\n",
       "      <td>£217.80m</td>\n",
       "      <td>£8.38m</td>\n",
       "    </tr>\n",
       "    <tr>\n",
       "      <th>13</th>\n",
       "      <td>Austria</td>\n",
       "      <td>23</td>\n",
       "      <td>£192.51m</td>\n",
       "      <td>£8.37m</td>\n",
       "    </tr>\n",
       "    <tr>\n",
       "      <th>14</th>\n",
       "      <td>Ukraine</td>\n",
       "      <td>25</td>\n",
       "      <td>£182.52m</td>\n",
       "      <td>£7.30m</td>\n",
       "    </tr>\n",
       "    <tr>\n",
       "      <th>15</th>\n",
       "      <td>Russia</td>\n",
       "      <td>34</td>\n",
       "      <td>£174.65m</td>\n",
       "      <td>£5.14m</td>\n",
       "    </tr>\n",
       "    <tr>\n",
       "      <th>16</th>\n",
       "      <td>Sweden</td>\n",
       "      <td>24</td>\n",
       "      <td>£150.48m</td>\n",
       "      <td>£6.27m</td>\n",
       "    </tr>\n",
       "    <tr>\n",
       "      <th>17</th>\n",
       "      <td>Switzerland</td>\n",
       "      <td>22</td>\n",
       "      <td>£147.69m</td>\n",
       "      <td>£6.71m</td>\n",
       "    </tr>\n",
       "    <tr>\n",
       "      <th>18</th>\n",
       "      <td>Czech Republic</td>\n",
       "      <td>23</td>\n",
       "      <td>£125.19m</td>\n",
       "      <td>£5.44m</td>\n",
       "    </tr>\n",
       "    <tr>\n",
       "      <th>19</th>\n",
       "      <td>Wales</td>\n",
       "      <td>26</td>\n",
       "      <td>£112.59m</td>\n",
       "      <td>£4.33m</td>\n",
       "    </tr>\n",
       "    <tr>\n",
       "      <th>20</th>\n",
       "      <td>Slovakia</td>\n",
       "      <td>27</td>\n",
       "      <td>£111.87m</td>\n",
       "      <td>£4.14m</td>\n",
       "    </tr>\n",
       "    <tr>\n",
       "      <th>21</th>\n",
       "      <td>Hungary</td>\n",
       "      <td>25</td>\n",
       "      <td>£96.17m</td>\n",
       "      <td>£3.85m</td>\n",
       "    </tr>\n",
       "    <tr>\n",
       "      <th>22</th>\n",
       "      <td>North Macedonia</td>\n",
       "      <td>25</td>\n",
       "      <td>£42.64m</td>\n",
       "      <td>£1.71m</td>\n",
       "    </tr>\n",
       "    <tr>\n",
       "      <th>23</th>\n",
       "      <td>Finland</td>\n",
       "      <td>24</td>\n",
       "      <td>£33.17m</td>\n",
       "      <td>£1.38m</td>\n",
       "    </tr>\n",
       "  </tbody>\n",
       "</table>\n",
       "</div>"
      ],
      "text/plain": [
       "               Team avg_age market_value avg_market_value\n",
       "0           England      24      £1.03bn          £42.75m\n",
       "1            France      23     £877.32m          £38.14m\n",
       "2           Germany      23     £808.65m          £35.16m\n",
       "3             Spain      23     £635.40m          £27.63m\n",
       "4             Italy      22     £629.10m          £28.60m\n",
       "5       Netherlands      27     £617.85m          £22.88m\n",
       "6          Portugal      23     £593.55m          £25.81m\n",
       "7           Belgium      20     £448.20m          £22.41m\n",
       "8           Croatia      24     £292.50m          £12.19m\n",
       "9           Denmark      23     £266.18m          £11.57m\n",
       "10           Turkey      24     £264.24m          £11.01m\n",
       "11           Poland      25     £235.35m           £9.41m\n",
       "12         Scotland      26     £217.80m           £8.38m\n",
       "13          Austria      23     £192.51m           £8.37m\n",
       "14          Ukraine      25     £182.52m           £7.30m\n",
       "15           Russia      34     £174.65m           £5.14m\n",
       "16           Sweden      24     £150.48m           £6.27m\n",
       "17      Switzerland      22     £147.69m           £6.71m\n",
       "18   Czech Republic      23     £125.19m           £5.44m\n",
       "19            Wales      26     £112.59m           £4.33m\n",
       "20         Slovakia      27     £111.87m           £4.14m\n",
       "21          Hungary      25      £96.17m           £3.85m\n",
       "22  North Macedonia      25      £42.64m           £1.71m\n",
       "23          Finland      24      £33.17m           £1.38m"
      ]
     },
     "execution_count": 4,
     "metadata": {},
     "output_type": "execute_result"
    }
   ],
   "source": [
    "# TABLE 2\n",
    "\n",
    "# Reading data from specific table items\n",
    "# Avoids reading data that is not within the table that has the same class name as a column \n",
    "import requests\n",
    "from bs4 import BeautifulSoup\n",
    "import pandas as pd\n",
    "\n",
    "headers = {\"User-Agent\": \"Mozilla/5.0 (Windows NT 10.0; Win64; x64) AppleWebKit/537.36 (KHTML, like Gecko) Chrome/95.0.4638.54 Safari/537.36\"}\n",
    "\n",
    "url2 = \"https://www.transfermarkt.co.uk/euro-2020/teilnehmer/pokalwettbewerb/EM20\"\n",
    "pageTree = requests.get(url2, headers=headers)\n",
    "pageSoup = BeautifulSoup(pageTree.content, 'html.parser')\n",
    "\n",
    "data = []\n",
    "table = pageSoup.find('table', attrs={'class':'items'}) # Much easier to read into the table class\n",
    "table_body = table.find('tbody')\n",
    "\n",
    "rows = table_body.find_all('tr')\n",
    "for row in rows:\n",
    "    cols = row.find_all('td')\n",
    "    cols = [ele.text.strip() for ele in cols]\n",
    "    data.append([ele for ele in cols if ele]) # Get rid of empty values\n",
    "\n",
    "df1 = pd.DataFrame(data)\n",
    "\n",
    "# Data Cleaning\n",
    "# Renaming dataframe with correct column headers \n",
    "df1 = df1.rename(columns={0: \"Team\", 1: \"avg_age\", 5: \"market_value\", 6: \"avg_market_value\"})\n",
    "\n",
    "# dropping columns that arent needed\n",
    "df1.drop(2, axis=1, inplace=True)\n",
    "df1.drop(3, axis=1, inplace=True)\n",
    "df1.drop(4, axis=1, inplace=True)\n",
    "\n",
    "df1.to_csv('C:/Users/matti/OneDrive/MyProjects/Data/P1 Euro 2020 Correlation/Team Valuation.csv', index=False)\n",
    "df1\n"
   ]
  },
  {
   "cell_type": "code",
   "execution_count": 5,
   "metadata": {},
   "outputs": [
    {
     "data": {
      "text/html": [
       "<div>\n",
       "<style scoped>\n",
       "    .dataframe tbody tr th:only-of-type {\n",
       "        vertical-align: middle;\n",
       "    }\n",
       "\n",
       "    .dataframe tbody tr th {\n",
       "        vertical-align: top;\n",
       "    }\n",
       "\n",
       "    .dataframe thead th {\n",
       "        text-align: right;\n",
       "    }\n",
       "</style>\n",
       "<table border=\"1\" class=\"dataframe\">\n",
       "  <thead>\n",
       "    <tr style=\"text-align: right;\">\n",
       "      <th></th>\n",
       "      <th>Team</th>\n",
       "      <th>Rank</th>\n",
       "    </tr>\n",
       "  </thead>\n",
       "  <tbody>\n",
       "    <tr>\n",
       "      <th>23</th>\n",
       "      <td>Italy</td>\n",
       "      <td>1</td>\n",
       "    </tr>\n",
       "    <tr>\n",
       "      <th>14</th>\n",
       "      <td>Portugal</td>\n",
       "      <td>10</td>\n",
       "    </tr>\n",
       "    <tr>\n",
       "      <th>13</th>\n",
       "      <td>Netherlands</td>\n",
       "      <td>11</td>\n",
       "    </tr>\n",
       "    <tr>\n",
       "      <th>12</th>\n",
       "      <td>Germany</td>\n",
       "      <td>12</td>\n",
       "    </tr>\n",
       "    <tr>\n",
       "      <th>11</th>\n",
       "      <td>Croatia</td>\n",
       "      <td>13</td>\n",
       "    </tr>\n",
       "    <tr>\n",
       "      <th>10</th>\n",
       "      <td>Austria</td>\n",
       "      <td>14</td>\n",
       "    </tr>\n",
       "    <tr>\n",
       "      <th>9</th>\n",
       "      <td>Sweden</td>\n",
       "      <td>15</td>\n",
       "    </tr>\n",
       "    <tr>\n",
       "      <th>8</th>\n",
       "      <td>Wales</td>\n",
       "      <td>16</td>\n",
       "    </tr>\n",
       "    <tr>\n",
       "      <th>7</th>\n",
       "      <td>Hungary</td>\n",
       "      <td>17</td>\n",
       "    </tr>\n",
       "    <tr>\n",
       "      <th>6</th>\n",
       "      <td>Finland</td>\n",
       "      <td>18</td>\n",
       "    </tr>\n",
       "    <tr>\n",
       "      <th>5</th>\n",
       "      <td>Russia</td>\n",
       "      <td>19</td>\n",
       "    </tr>\n",
       "    <tr>\n",
       "      <th>22</th>\n",
       "      <td>England</td>\n",
       "      <td>2</td>\n",
       "    </tr>\n",
       "    <tr>\n",
       "      <th>4</th>\n",
       "      <td>Slovakia</td>\n",
       "      <td>20</td>\n",
       "    </tr>\n",
       "    <tr>\n",
       "      <th>3</th>\n",
       "      <td>Poland</td>\n",
       "      <td>21</td>\n",
       "    </tr>\n",
       "    <tr>\n",
       "      <th>2</th>\n",
       "      <td>Scotland</td>\n",
       "      <td>22</td>\n",
       "    </tr>\n",
       "    <tr>\n",
       "      <th>1</th>\n",
       "      <td>North Macedonia</td>\n",
       "      <td>23</td>\n",
       "    </tr>\n",
       "    <tr>\n",
       "      <th>0</th>\n",
       "      <td>Turkey</td>\n",
       "      <td>24</td>\n",
       "    </tr>\n",
       "    <tr>\n",
       "      <th>21</th>\n",
       "      <td>Denmark</td>\n",
       "      <td>3</td>\n",
       "    </tr>\n",
       "    <tr>\n",
       "      <th>20</th>\n",
       "      <td>Spain</td>\n",
       "      <td>4</td>\n",
       "    </tr>\n",
       "    <tr>\n",
       "      <th>19</th>\n",
       "      <td>Belgium</td>\n",
       "      <td>5</td>\n",
       "    </tr>\n",
       "    <tr>\n",
       "      <th>18</th>\n",
       "      <td>Czech Republic</td>\n",
       "      <td>6</td>\n",
       "    </tr>\n",
       "    <tr>\n",
       "      <th>17</th>\n",
       "      <td>Switzerland</td>\n",
       "      <td>7</td>\n",
       "    </tr>\n",
       "    <tr>\n",
       "      <th>16</th>\n",
       "      <td>Ukraine</td>\n",
       "      <td>8</td>\n",
       "    </tr>\n",
       "    <tr>\n",
       "      <th>15</th>\n",
       "      <td>France</td>\n",
       "      <td>9</td>\n",
       "    </tr>\n",
       "  </tbody>\n",
       "</table>\n",
       "</div>"
      ],
      "text/plain": [
       "               Team Rank\n",
       "23            Italy    1\n",
       "14         Portugal   10\n",
       "13      Netherlands   11\n",
       "12          Germany   12\n",
       "11          Croatia   13\n",
       "10          Austria   14\n",
       "9            Sweden   15\n",
       "8             Wales   16\n",
       "7           Hungary   17\n",
       "6           Finland   18\n",
       "5            Russia   19\n",
       "22          England    2\n",
       "4          Slovakia   20\n",
       "3            Poland   21\n",
       "2          Scotland   22\n",
       "1   North Macedonia   23\n",
       "0            Turkey   24\n",
       "21          Denmark    3\n",
       "20            Spain    4\n",
       "19          Belgium    5\n",
       "18   Czech Republic    6\n",
       "17      Switzerland    7\n",
       "16          Ukraine    8\n",
       "15           France    9"
      ]
     },
     "execution_count": 5,
     "metadata": {},
     "output_type": "execute_result"
    }
   ],
   "source": [
    "# TABLE 3\n",
    "\n",
    "import requests \n",
    "from bs4 import BeautifulSoup\n",
    "\n",
    "url3 = \"https://www.90min.com/posts/euro-2020-the-final-team-rankings\"\n",
    "\n",
    "headers = {\"User-Agent\": \"Mozilla/5.0 (Windows NT 10.0; Win64; x64) AppleWebKit/537.36 (KHTML, like Gecko) Chrome/95.0.4638.54 Safari/537.36\"}\n",
    "\n",
    "page2Tree = requests.get(url3, headers=headers)\n",
    "page2Soup = BeautifulSoup(page2Tree.content, 'html.parser')\n",
    "\n",
    "# data = []\n",
    "test = page2Soup.findAll('span', attrs={'class':'tagStyle_q7y9ey-o_O-numberStyle_l6szse-o_O-tagStyle_1igopqi'})\n",
    "\n",
    "testb = page2Soup.findAll('h2', attrs={'class':'tagStyle_1igopqi-o_O-style_48hmcm-o_O-titleStyle_u23ta5'})\n",
    "\n",
    "# test[0].text \n",
    "# Only h2 needed as it outputs rank too \n",
    "testb[0].text\n",
    "\n",
    "# Itersting to create dataframe using a for loop\n",
    "rows = [[testb[i].text] for i in range(24)]\n",
    "df2 = pd.DataFrame(rows, columns=[\"A\"])\n",
    "\n",
    "# Splitting into different columns but the first space (n=1)\n",
    "df2[['Rank', 'Team']] = df2['A'].str.split(n=1, expand=True)\n",
    "\n",
    "# Splitting new rank column to seperate number from dot\n",
    "a = df2['Rank'].str.partition('.')\n",
    "  \n",
    "# df2\n",
    "# a\n",
    "\n",
    "# Adding column from dataframe a to df2 with name 'ACC rank'\n",
    "df2['ACC rank'] = a[0].values\n",
    "\n",
    "# Dropping columns A and Rank as they have been cleaned and recreated and are no longer needed\n",
    "df2.drop('A', axis=1, inplace=True)\n",
    "df2.drop('Rank', axis=1, inplace=True)\n",
    "\n",
    "# renaming column name\n",
    "df2 = df2.rename(columns={\"ACC rank\": \"Rank\"})\n",
    "df2.sort_values(['Rank'], inplace=True)\n",
    "\n",
    "\n",
    "df2.to_csv('C:/Users/matti/OneDrive/MyProjects/Data/P1 Euro 2020 Correlation/Team rank.csv', index=False)\n",
    "\n",
    "\n",
    "df2\n"
   ]
  },
  {
   "cell_type": "code",
   "execution_count": 6,
   "metadata": {},
   "outputs": [
    {
     "data": {
      "text/html": [
       "<div>\n",
       "<style scoped>\n",
       "    .dataframe tbody tr th:only-of-type {\n",
       "        vertical-align: middle;\n",
       "    }\n",
       "\n",
       "    .dataframe tbody tr th {\n",
       "        vertical-align: top;\n",
       "    }\n",
       "\n",
       "    .dataframe thead th {\n",
       "        text-align: right;\n",
       "    }\n",
       "</style>\n",
       "<table border=\"1\" class=\"dataframe\">\n",
       "  <thead>\n",
       "    <tr style=\"text-align: right;\">\n",
       "      <th></th>\n",
       "      <th>Team</th>\n",
       "      <th>avg_age</th>\n",
       "      <th>market_value</th>\n",
       "      <th>avg_market_value</th>\n",
       "      <th>Rank</th>\n",
       "      <th>market_value_Quartile</th>\n",
       "    </tr>\n",
       "  </thead>\n",
       "  <tbody>\n",
       "    <tr>\n",
       "      <th>4</th>\n",
       "      <td>Italy</td>\n",
       "      <td>22</td>\n",
       "      <td>629.10</td>\n",
       "      <td>28.60</td>\n",
       "      <td>1</td>\n",
       "      <td>Q4</td>\n",
       "    </tr>\n",
       "    <tr>\n",
       "      <th>0</th>\n",
       "      <td>England</td>\n",
       "      <td>24</td>\n",
       "      <td>1030.00</td>\n",
       "      <td>42.75</td>\n",
       "      <td>2</td>\n",
       "      <td>Q4</td>\n",
       "    </tr>\n",
       "    <tr>\n",
       "      <th>3</th>\n",
       "      <td>Spain</td>\n",
       "      <td>23</td>\n",
       "      <td>635.40</td>\n",
       "      <td>27.63</td>\n",
       "      <td>4</td>\n",
       "      <td>Q4</td>\n",
       "    </tr>\n",
       "    <tr>\n",
       "      <th>1</th>\n",
       "      <td>France</td>\n",
       "      <td>23</td>\n",
       "      <td>877.32</td>\n",
       "      <td>38.14</td>\n",
       "      <td>9</td>\n",
       "      <td>Q4</td>\n",
       "    </tr>\n",
       "    <tr>\n",
       "      <th>5</th>\n",
       "      <td>Netherlands</td>\n",
       "      <td>27</td>\n",
       "      <td>617.85</td>\n",
       "      <td>22.88</td>\n",
       "      <td>11</td>\n",
       "      <td>Q4</td>\n",
       "    </tr>\n",
       "    <tr>\n",
       "      <th>2</th>\n",
       "      <td>Germany</td>\n",
       "      <td>23</td>\n",
       "      <td>808.65</td>\n",
       "      <td>35.16</td>\n",
       "      <td>12</td>\n",
       "      <td>Q4</td>\n",
       "    </tr>\n",
       "    <tr>\n",
       "      <th>8</th>\n",
       "      <td>Croatia</td>\n",
       "      <td>24</td>\n",
       "      <td>292.50</td>\n",
       "      <td>12.19</td>\n",
       "      <td>13</td>\n",
       "      <td>Q3</td>\n",
       "    </tr>\n",
       "    <tr>\n",
       "      <th>10</th>\n",
       "      <td>Turkey</td>\n",
       "      <td>24</td>\n",
       "      <td>264.24</td>\n",
       "      <td>11.01</td>\n",
       "      <td>24</td>\n",
       "      <td>Q3</td>\n",
       "    </tr>\n",
       "    <tr>\n",
       "      <th>7</th>\n",
       "      <td>Belgium</td>\n",
       "      <td>20</td>\n",
       "      <td>448.20</td>\n",
       "      <td>22.41</td>\n",
       "      <td>5</td>\n",
       "      <td>Q3</td>\n",
       "    </tr>\n",
       "    <tr>\n",
       "      <th>6</th>\n",
       "      <td>Portugal</td>\n",
       "      <td>23</td>\n",
       "      <td>593.55</td>\n",
       "      <td>25.81</td>\n",
       "      <td>10</td>\n",
       "      <td>Q3</td>\n",
       "    </tr>\n",
       "    <tr>\n",
       "      <th>11</th>\n",
       "      <td>Poland</td>\n",
       "      <td>25</td>\n",
       "      <td>235.35</td>\n",
       "      <td>9.41</td>\n",
       "      <td>21</td>\n",
       "      <td>Q3</td>\n",
       "    </tr>\n",
       "    <tr>\n",
       "      <th>9</th>\n",
       "      <td>Denmark</td>\n",
       "      <td>23</td>\n",
       "      <td>266.18</td>\n",
       "      <td>11.57</td>\n",
       "      <td>3</td>\n",
       "      <td>Q3</td>\n",
       "    </tr>\n",
       "    <tr>\n",
       "      <th>14</th>\n",
       "      <td>Ukraine</td>\n",
       "      <td>25</td>\n",
       "      <td>182.52</td>\n",
       "      <td>7.30</td>\n",
       "      <td>8</td>\n",
       "      <td>Q2</td>\n",
       "    </tr>\n",
       "    <tr>\n",
       "      <th>17</th>\n",
       "      <td>Switzerland</td>\n",
       "      <td>22</td>\n",
       "      <td>147.69</td>\n",
       "      <td>6.71</td>\n",
       "      <td>7</td>\n",
       "      <td>Q2</td>\n",
       "    </tr>\n",
       "    <tr>\n",
       "      <th>18</th>\n",
       "      <td>Czech Republic</td>\n",
       "      <td>23</td>\n",
       "      <td>125.19</td>\n",
       "      <td>5.44</td>\n",
       "      <td>6</td>\n",
       "      <td>Q2</td>\n",
       "    </tr>\n",
       "    <tr>\n",
       "      <th>12</th>\n",
       "      <td>Scotland</td>\n",
       "      <td>26</td>\n",
       "      <td>217.80</td>\n",
       "      <td>8.38</td>\n",
       "      <td>22</td>\n",
       "      <td>Q2</td>\n",
       "    </tr>\n",
       "    <tr>\n",
       "      <th>13</th>\n",
       "      <td>Austria</td>\n",
       "      <td>23</td>\n",
       "      <td>192.51</td>\n",
       "      <td>8.37</td>\n",
       "      <td>14</td>\n",
       "      <td>Q2</td>\n",
       "    </tr>\n",
       "    <tr>\n",
       "      <th>15</th>\n",
       "      <td>Russia</td>\n",
       "      <td>34</td>\n",
       "      <td>174.65</td>\n",
       "      <td>5.14</td>\n",
       "      <td>19</td>\n",
       "      <td>Q2</td>\n",
       "    </tr>\n",
       "    <tr>\n",
       "      <th>16</th>\n",
       "      <td>Sweden</td>\n",
       "      <td>24</td>\n",
       "      <td>150.48</td>\n",
       "      <td>6.27</td>\n",
       "      <td>15</td>\n",
       "      <td>Q2</td>\n",
       "    </tr>\n",
       "    <tr>\n",
       "      <th>22</th>\n",
       "      <td>North Macedonia</td>\n",
       "      <td>25</td>\n",
       "      <td>42.64</td>\n",
       "      <td>1.71</td>\n",
       "      <td>23</td>\n",
       "      <td>Q1</td>\n",
       "    </tr>\n",
       "    <tr>\n",
       "      <th>23</th>\n",
       "      <td>Finland</td>\n",
       "      <td>24</td>\n",
       "      <td>33.17</td>\n",
       "      <td>1.38</td>\n",
       "      <td>18</td>\n",
       "      <td>Q1</td>\n",
       "    </tr>\n",
       "    <tr>\n",
       "      <th>21</th>\n",
       "      <td>Hungary</td>\n",
       "      <td>25</td>\n",
       "      <td>96.17</td>\n",
       "      <td>3.85</td>\n",
       "      <td>17</td>\n",
       "      <td>Q1</td>\n",
       "    </tr>\n",
       "    <tr>\n",
       "      <th>19</th>\n",
       "      <td>Wales</td>\n",
       "      <td>26</td>\n",
       "      <td>112.59</td>\n",
       "      <td>4.33</td>\n",
       "      <td>16</td>\n",
       "      <td>Q1</td>\n",
       "    </tr>\n",
       "    <tr>\n",
       "      <th>20</th>\n",
       "      <td>Slovakia</td>\n",
       "      <td>27</td>\n",
       "      <td>111.87</td>\n",
       "      <td>4.14</td>\n",
       "      <td>20</td>\n",
       "      <td>Q1</td>\n",
       "    </tr>\n",
       "  </tbody>\n",
       "</table>\n",
       "</div>"
      ],
      "text/plain": [
       "               Team  avg_age  market_value  avg_market_value  Rank  \\\n",
       "4             Italy       22        629.10             28.60     1   \n",
       "0           England       24       1030.00             42.75     2   \n",
       "3             Spain       23        635.40             27.63     4   \n",
       "1            France       23        877.32             38.14     9   \n",
       "5       Netherlands       27        617.85             22.88    11   \n",
       "2           Germany       23        808.65             35.16    12   \n",
       "8           Croatia       24        292.50             12.19    13   \n",
       "10           Turkey       24        264.24             11.01    24   \n",
       "7           Belgium       20        448.20             22.41     5   \n",
       "6          Portugal       23        593.55             25.81    10   \n",
       "11           Poland       25        235.35              9.41    21   \n",
       "9           Denmark       23        266.18             11.57     3   \n",
       "14          Ukraine       25        182.52              7.30     8   \n",
       "17      Switzerland       22        147.69              6.71     7   \n",
       "18   Czech Republic       23        125.19              5.44     6   \n",
       "12         Scotland       26        217.80              8.38    22   \n",
       "13          Austria       23        192.51              8.37    14   \n",
       "15           Russia       34        174.65              5.14    19   \n",
       "16           Sweden       24        150.48              6.27    15   \n",
       "22  North Macedonia       25         42.64              1.71    23   \n",
       "23          Finland       24         33.17              1.38    18   \n",
       "21          Hungary       25         96.17              3.85    17   \n",
       "19            Wales       26        112.59              4.33    16   \n",
       "20         Slovakia       27        111.87              4.14    20   \n",
       "\n",
       "   market_value_Quartile  \n",
       "4                     Q4  \n",
       "0                     Q4  \n",
       "3                     Q4  \n",
       "1                     Q4  \n",
       "5                     Q4  \n",
       "2                     Q4  \n",
       "8                     Q3  \n",
       "10                    Q3  \n",
       "7                     Q3  \n",
       "6                     Q3  \n",
       "11                    Q3  \n",
       "9                     Q3  \n",
       "14                    Q2  \n",
       "17                    Q2  \n",
       "18                    Q2  \n",
       "12                    Q2  \n",
       "13                    Q2  \n",
       "15                    Q2  \n",
       "16                    Q2  \n",
       "22                    Q1  \n",
       "23                    Q1  \n",
       "21                    Q1  \n",
       "19                    Q1  \n",
       "20                    Q1  "
      ]
     },
     "execution_count": 6,
     "metadata": {},
     "output_type": "execute_result"
    }
   ],
   "source": [
    "# TABLE 4  JOIN \n",
    "\n",
    "# If we want to join using the key columns, we need to set key to be the index in both df and other. The joined DataFrame will have key as its index.\n",
    "# Important to inner join them so the index is kept \n",
    "JOIN = df1.merge(df2, how='inner', on='Team')\n",
    "\n",
    "# JOIN = df2.set_index('Team').join(df1.set_index('Team'))\n",
    "JOIN.sort_values(['Rank'], inplace=True)\n",
    "# JOIN= JOIN.sort_values(by='Rank')\n",
    "# JOIN.drop('Country', axis=0, inplace=True)\n",
    "\n",
    "# Changing bn to million for England using loc\n",
    "JOIN.loc[JOIN['Team'] == 'England', 'market_value'] = '£1030.00m'\n",
    "\n",
    "# Because we know for a fact the £ and m will be the first and last character we can use \n",
    "JOIN['market_value'] = JOIN['market_value'].str[1:-1]\n",
    "JOIN['avg_market_value'] = JOIN['avg_market_value'].str[1:-1]\n",
    "\n",
    "# Converting cleaned columns to numeric so calculations can be performed on it\n",
    "JOIN[\"Rank\"] = pd.to_numeric(JOIN[\"Rank\"])\n",
    "JOIN[\"avg_age\"] = pd.to_numeric(JOIN[\"avg_age\"])\n",
    "JOIN[\"market_value\"] = pd.to_numeric(JOIN[\"market_value\"])\n",
    "JOIN[\"avg_market_value\"] = pd.to_numeric(JOIN[\"avg_market_value\"])\n",
    "\n",
    "# Column can now be sorted by Rank as its now numeric \n",
    "# JOIN.sort_values(['Rank'], inplace=True, ascending=False)\n",
    "\n",
    "# Used to identify quartiles in the market_value \n",
    "JOIN.market_value.quantile([0,0.25,0.5,0.75,1])\n",
    "\n",
    "# Creating market value field to group team market values in 4 brackets \n",
    "JOIN['market_value_Quartile'] = (\n",
    "    pd.cut(\n",
    "        JOIN['market_value'], bins=[33.1700, 122.1525, 226.5750, 599.6250, 1030.00],\n",
    "        labels=['Q1', 'Q2', 'Q3', 'Q4'], include_lowest=True)\n",
    ")\n",
    "\n",
    "JOIN.sort_values(['market_value_Quartile'], inplace=True, ascending=False)\n",
    "\n",
    "\n",
    "JOIN.to_csv('C:/Users/matti/OneDrive/MyProjects/Data/P1 Euro 2020 Correlation/Value and rank JOIN.csv', index=False)\n",
    "JOIN.to_csv('Value and rank JOIN.csv', index=False)\n",
    "JOIN\n"
   ]
  },
  {
   "cell_type": "code",
   "execution_count": 7,
   "metadata": {},
   "outputs": [
    {
     "data": {
      "application/vnd.plotly.v1+json": {
       "config": {
        "plotlyServerURL": "https://plot.ly"
       },
       "data": [
        {
         "hovertemplate": "<b>%{hovertext}</b><br><br>Euro 2020 Ranking=%{x}<br>Team Market value (millions) (£)=%{marker.size}<extra></extra>",
         "hovertext": [
          "Italy",
          "England",
          "Spain",
          "France",
          "Netherlands",
          "Germany",
          "Croatia",
          "Turkey",
          "Belgium",
          "Portugal",
          "Poland",
          "Denmark",
          "Ukraine",
          "Switzerland",
          "Czech Republic",
          "Scotland",
          "Austria",
          "Russia",
          "Sweden",
          "North Macedonia",
          "Finland",
          "Hungary",
          "Wales",
          "Slovakia"
         ],
         "legendgroup": "",
         "marker": {
          "color": "#636efa",
          "size": [
           629.1,
           1030,
           635.4,
           877.32,
           617.85,
           808.65,
           292.5,
           264.24,
           448.2,
           593.55,
           235.35,
           266.18,
           182.52,
           147.69,
           125.19,
           217.8,
           192.51,
           174.65,
           150.48,
           42.64,
           33.17,
           96.17,
           112.59,
           111.87
          ],
          "sizemode": "area",
          "sizeref": 2.575,
          "symbol": "circle"
         },
         "mode": "markers",
         "name": "",
         "orientation": "v",
         "showlegend": false,
         "type": "scatter",
         "x": [
          1,
          2,
          4,
          9,
          11,
          12,
          13,
          24,
          5,
          10,
          21,
          3,
          8,
          7,
          6,
          22,
          14,
          19,
          15,
          23,
          18,
          17,
          16,
          20
         ],
         "xaxis": "x",
         "y": [
          629.1,
          1030,
          635.4,
          877.32,
          617.85,
          808.65,
          292.5,
          264.24,
          448.2,
          593.55,
          235.35,
          266.18,
          182.52,
          147.69,
          125.19,
          217.8,
          192.51,
          174.65,
          150.48,
          42.64,
          33.17,
          96.17,
          112.59,
          111.87
         ],
         "yaxis": "y"
        },
        {
         "hovertemplate": "<b>OLS trendline</b><br>market_value = -22.8895 * Rank + 631.353<br>R<sup>2</sup>=0.319491<br><br>Euro 2020 Ranking=%{x}<br>Team Market value (millions) (£)=%{y} <b>(trend)</b><extra></extra>",
         "legendgroup": "",
         "marker": {
          "color": "#636efa",
          "symbol": "circle"
         },
         "mode": "lines",
         "name": "",
         "showlegend": false,
         "type": "scatter",
         "x": [
          1,
          2,
          3,
          4,
          5,
          6,
          7,
          8,
          9,
          10,
          11,
          12,
          13,
          14,
          15,
          16,
          17,
          18,
          19,
          20,
          21,
          22,
          23,
          24
         ],
         "xaxis": "x",
         "y": [
          608.4635666666668,
          585.5740536231885,
          562.6845405797103,
          539.795027536232,
          516.9055144927538,
          494.0160014492755,
          471.12648840579726,
          448.236975362319,
          425.34746231884077,
          402.4579492753625,
          379.5684362318842,
          356.678923188406,
          333.78941014492773,
          310.8998971014495,
          288.01038405797124,
          265.120871014493,
          242.23135797101475,
          219.3418449275365,
          196.45233188405825,
          173.56281884058,
          150.6733057971017,
          127.78379275362346,
          104.89427971014527,
          82.00476666666691
         ],
         "yaxis": "y"
        }
       ],
       "layout": {
        "font": {
         "color": "black",
         "family": "Courier New, monospace",
         "size": 14
        },
        "legend": {
         "itemsizing": "constant",
         "tracegroupgap": 0
        },
        "template": {
         "data": {
          "bar": [
           {
            "error_x": {
             "color": "#2a3f5f"
            },
            "error_y": {
             "color": "#2a3f5f"
            },
            "marker": {
             "line": {
              "color": "#E5ECF6",
              "width": 0.5
             },
             "pattern": {
              "fillmode": "overlay",
              "size": 10,
              "solidity": 0.2
             }
            },
            "type": "bar"
           }
          ],
          "barpolar": [
           {
            "marker": {
             "line": {
              "color": "#E5ECF6",
              "width": 0.5
             },
             "pattern": {
              "fillmode": "overlay",
              "size": 10,
              "solidity": 0.2
             }
            },
            "type": "barpolar"
           }
          ],
          "carpet": [
           {
            "aaxis": {
             "endlinecolor": "#2a3f5f",
             "gridcolor": "white",
             "linecolor": "white",
             "minorgridcolor": "white",
             "startlinecolor": "#2a3f5f"
            },
            "baxis": {
             "endlinecolor": "#2a3f5f",
             "gridcolor": "white",
             "linecolor": "white",
             "minorgridcolor": "white",
             "startlinecolor": "#2a3f5f"
            },
            "type": "carpet"
           }
          ],
          "choropleth": [
           {
            "colorbar": {
             "outlinewidth": 0,
             "ticks": ""
            },
            "type": "choropleth"
           }
          ],
          "contour": [
           {
            "colorbar": {
             "outlinewidth": 0,
             "ticks": ""
            },
            "colorscale": [
             [
              0,
              "#0d0887"
             ],
             [
              0.1111111111111111,
              "#46039f"
             ],
             [
              0.2222222222222222,
              "#7201a8"
             ],
             [
              0.3333333333333333,
              "#9c179e"
             ],
             [
              0.4444444444444444,
              "#bd3786"
             ],
             [
              0.5555555555555556,
              "#d8576b"
             ],
             [
              0.6666666666666666,
              "#ed7953"
             ],
             [
              0.7777777777777778,
              "#fb9f3a"
             ],
             [
              0.8888888888888888,
              "#fdca26"
             ],
             [
              1,
              "#f0f921"
             ]
            ],
            "type": "contour"
           }
          ],
          "contourcarpet": [
           {
            "colorbar": {
             "outlinewidth": 0,
             "ticks": ""
            },
            "type": "contourcarpet"
           }
          ],
          "heatmap": [
           {
            "colorbar": {
             "outlinewidth": 0,
             "ticks": ""
            },
            "colorscale": [
             [
              0,
              "#0d0887"
             ],
             [
              0.1111111111111111,
              "#46039f"
             ],
             [
              0.2222222222222222,
              "#7201a8"
             ],
             [
              0.3333333333333333,
              "#9c179e"
             ],
             [
              0.4444444444444444,
              "#bd3786"
             ],
             [
              0.5555555555555556,
              "#d8576b"
             ],
             [
              0.6666666666666666,
              "#ed7953"
             ],
             [
              0.7777777777777778,
              "#fb9f3a"
             ],
             [
              0.8888888888888888,
              "#fdca26"
             ],
             [
              1,
              "#f0f921"
             ]
            ],
            "type": "heatmap"
           }
          ],
          "heatmapgl": [
           {
            "colorbar": {
             "outlinewidth": 0,
             "ticks": ""
            },
            "colorscale": [
             [
              0,
              "#0d0887"
             ],
             [
              0.1111111111111111,
              "#46039f"
             ],
             [
              0.2222222222222222,
              "#7201a8"
             ],
             [
              0.3333333333333333,
              "#9c179e"
             ],
             [
              0.4444444444444444,
              "#bd3786"
             ],
             [
              0.5555555555555556,
              "#d8576b"
             ],
             [
              0.6666666666666666,
              "#ed7953"
             ],
             [
              0.7777777777777778,
              "#fb9f3a"
             ],
             [
              0.8888888888888888,
              "#fdca26"
             ],
             [
              1,
              "#f0f921"
             ]
            ],
            "type": "heatmapgl"
           }
          ],
          "histogram": [
           {
            "marker": {
             "pattern": {
              "fillmode": "overlay",
              "size": 10,
              "solidity": 0.2
             }
            },
            "type": "histogram"
           }
          ],
          "histogram2d": [
           {
            "colorbar": {
             "outlinewidth": 0,
             "ticks": ""
            },
            "colorscale": [
             [
              0,
              "#0d0887"
             ],
             [
              0.1111111111111111,
              "#46039f"
             ],
             [
              0.2222222222222222,
              "#7201a8"
             ],
             [
              0.3333333333333333,
              "#9c179e"
             ],
             [
              0.4444444444444444,
              "#bd3786"
             ],
             [
              0.5555555555555556,
              "#d8576b"
             ],
             [
              0.6666666666666666,
              "#ed7953"
             ],
             [
              0.7777777777777778,
              "#fb9f3a"
             ],
             [
              0.8888888888888888,
              "#fdca26"
             ],
             [
              1,
              "#f0f921"
             ]
            ],
            "type": "histogram2d"
           }
          ],
          "histogram2dcontour": [
           {
            "colorbar": {
             "outlinewidth": 0,
             "ticks": ""
            },
            "colorscale": [
             [
              0,
              "#0d0887"
             ],
             [
              0.1111111111111111,
              "#46039f"
             ],
             [
              0.2222222222222222,
              "#7201a8"
             ],
             [
              0.3333333333333333,
              "#9c179e"
             ],
             [
              0.4444444444444444,
              "#bd3786"
             ],
             [
              0.5555555555555556,
              "#d8576b"
             ],
             [
              0.6666666666666666,
              "#ed7953"
             ],
             [
              0.7777777777777778,
              "#fb9f3a"
             ],
             [
              0.8888888888888888,
              "#fdca26"
             ],
             [
              1,
              "#f0f921"
             ]
            ],
            "type": "histogram2dcontour"
           }
          ],
          "mesh3d": [
           {
            "colorbar": {
             "outlinewidth": 0,
             "ticks": ""
            },
            "type": "mesh3d"
           }
          ],
          "parcoords": [
           {
            "line": {
             "colorbar": {
              "outlinewidth": 0,
              "ticks": ""
             }
            },
            "type": "parcoords"
           }
          ],
          "pie": [
           {
            "automargin": true,
            "type": "pie"
           }
          ],
          "scatter": [
           {
            "marker": {
             "colorbar": {
              "outlinewidth": 0,
              "ticks": ""
             }
            },
            "type": "scatter"
           }
          ],
          "scatter3d": [
           {
            "line": {
             "colorbar": {
              "outlinewidth": 0,
              "ticks": ""
             }
            },
            "marker": {
             "colorbar": {
              "outlinewidth": 0,
              "ticks": ""
             }
            },
            "type": "scatter3d"
           }
          ],
          "scattercarpet": [
           {
            "marker": {
             "colorbar": {
              "outlinewidth": 0,
              "ticks": ""
             }
            },
            "type": "scattercarpet"
           }
          ],
          "scattergeo": [
           {
            "marker": {
             "colorbar": {
              "outlinewidth": 0,
              "ticks": ""
             }
            },
            "type": "scattergeo"
           }
          ],
          "scattergl": [
           {
            "marker": {
             "colorbar": {
              "outlinewidth": 0,
              "ticks": ""
             }
            },
            "type": "scattergl"
           }
          ],
          "scattermapbox": [
           {
            "marker": {
             "colorbar": {
              "outlinewidth": 0,
              "ticks": ""
             }
            },
            "type": "scattermapbox"
           }
          ],
          "scatterpolar": [
           {
            "marker": {
             "colorbar": {
              "outlinewidth": 0,
              "ticks": ""
             }
            },
            "type": "scatterpolar"
           }
          ],
          "scatterpolargl": [
           {
            "marker": {
             "colorbar": {
              "outlinewidth": 0,
              "ticks": ""
             }
            },
            "type": "scatterpolargl"
           }
          ],
          "scatterternary": [
           {
            "marker": {
             "colorbar": {
              "outlinewidth": 0,
              "ticks": ""
             }
            },
            "type": "scatterternary"
           }
          ],
          "surface": [
           {
            "colorbar": {
             "outlinewidth": 0,
             "ticks": ""
            },
            "colorscale": [
             [
              0,
              "#0d0887"
             ],
             [
              0.1111111111111111,
              "#46039f"
             ],
             [
              0.2222222222222222,
              "#7201a8"
             ],
             [
              0.3333333333333333,
              "#9c179e"
             ],
             [
              0.4444444444444444,
              "#bd3786"
             ],
             [
              0.5555555555555556,
              "#d8576b"
             ],
             [
              0.6666666666666666,
              "#ed7953"
             ],
             [
              0.7777777777777778,
              "#fb9f3a"
             ],
             [
              0.8888888888888888,
              "#fdca26"
             ],
             [
              1,
              "#f0f921"
             ]
            ],
            "type": "surface"
           }
          ],
          "table": [
           {
            "cells": {
             "fill": {
              "color": "#EBF0F8"
             },
             "line": {
              "color": "white"
             }
            },
            "header": {
             "fill": {
              "color": "#C8D4E3"
             },
             "line": {
              "color": "white"
             }
            },
            "type": "table"
           }
          ]
         },
         "layout": {
          "annotationdefaults": {
           "arrowcolor": "#2a3f5f",
           "arrowhead": 0,
           "arrowwidth": 1
          },
          "autotypenumbers": "strict",
          "coloraxis": {
           "colorbar": {
            "outlinewidth": 0,
            "ticks": ""
           }
          },
          "colorscale": {
           "diverging": [
            [
             0,
             "#8e0152"
            ],
            [
             0.1,
             "#c51b7d"
            ],
            [
             0.2,
             "#de77ae"
            ],
            [
             0.3,
             "#f1b6da"
            ],
            [
             0.4,
             "#fde0ef"
            ],
            [
             0.5,
             "#f7f7f7"
            ],
            [
             0.6,
             "#e6f5d0"
            ],
            [
             0.7,
             "#b8e186"
            ],
            [
             0.8,
             "#7fbc41"
            ],
            [
             0.9,
             "#4d9221"
            ],
            [
             1,
             "#276419"
            ]
           ],
           "sequential": [
            [
             0,
             "#0d0887"
            ],
            [
             0.1111111111111111,
             "#46039f"
            ],
            [
             0.2222222222222222,
             "#7201a8"
            ],
            [
             0.3333333333333333,
             "#9c179e"
            ],
            [
             0.4444444444444444,
             "#bd3786"
            ],
            [
             0.5555555555555556,
             "#d8576b"
            ],
            [
             0.6666666666666666,
             "#ed7953"
            ],
            [
             0.7777777777777778,
             "#fb9f3a"
            ],
            [
             0.8888888888888888,
             "#fdca26"
            ],
            [
             1,
             "#f0f921"
            ]
           ],
           "sequentialminus": [
            [
             0,
             "#0d0887"
            ],
            [
             0.1111111111111111,
             "#46039f"
            ],
            [
             0.2222222222222222,
             "#7201a8"
            ],
            [
             0.3333333333333333,
             "#9c179e"
            ],
            [
             0.4444444444444444,
             "#bd3786"
            ],
            [
             0.5555555555555556,
             "#d8576b"
            ],
            [
             0.6666666666666666,
             "#ed7953"
            ],
            [
             0.7777777777777778,
             "#fb9f3a"
            ],
            [
             0.8888888888888888,
             "#fdca26"
            ],
            [
             1,
             "#f0f921"
            ]
           ]
          },
          "colorway": [
           "#636efa",
           "#EF553B",
           "#00cc96",
           "#ab63fa",
           "#FFA15A",
           "#19d3f3",
           "#FF6692",
           "#B6E880",
           "#FF97FF",
           "#FECB52"
          ],
          "font": {
           "color": "#2a3f5f"
          },
          "geo": {
           "bgcolor": "white",
           "lakecolor": "white",
           "landcolor": "#E5ECF6",
           "showlakes": true,
           "showland": true,
           "subunitcolor": "white"
          },
          "hoverlabel": {
           "align": "left"
          },
          "hovermode": "closest",
          "mapbox": {
           "style": "light"
          },
          "paper_bgcolor": "white",
          "plot_bgcolor": "#E5ECF6",
          "polar": {
           "angularaxis": {
            "gridcolor": "white",
            "linecolor": "white",
            "ticks": ""
           },
           "bgcolor": "#E5ECF6",
           "radialaxis": {
            "gridcolor": "white",
            "linecolor": "white",
            "ticks": ""
           }
          },
          "scene": {
           "xaxis": {
            "backgroundcolor": "#E5ECF6",
            "gridcolor": "white",
            "gridwidth": 2,
            "linecolor": "white",
            "showbackground": true,
            "ticks": "",
            "zerolinecolor": "white"
           },
           "yaxis": {
            "backgroundcolor": "#E5ECF6",
            "gridcolor": "white",
            "gridwidth": 2,
            "linecolor": "white",
            "showbackground": true,
            "ticks": "",
            "zerolinecolor": "white"
           },
           "zaxis": {
            "backgroundcolor": "#E5ECF6",
            "gridcolor": "white",
            "gridwidth": 2,
            "linecolor": "white",
            "showbackground": true,
            "ticks": "",
            "zerolinecolor": "white"
           }
          },
          "shapedefaults": {
           "line": {
            "color": "#2a3f5f"
           }
          },
          "ternary": {
           "aaxis": {
            "gridcolor": "white",
            "linecolor": "white",
            "ticks": ""
           },
           "baxis": {
            "gridcolor": "white",
            "linecolor": "white",
            "ticks": ""
           },
           "bgcolor": "#E5ECF6",
           "caxis": {
            "gridcolor": "white",
            "linecolor": "white",
            "ticks": ""
           }
          },
          "title": {
           "x": 0.05
          },
          "xaxis": {
           "automargin": true,
           "gridcolor": "white",
           "linecolor": "white",
           "ticks": "",
           "title": {
            "standoff": 15
           },
           "zerolinecolor": "white",
           "zerolinewidth": 2
          },
          "yaxis": {
           "automargin": true,
           "gridcolor": "white",
           "linecolor": "white",
           "ticks": "",
           "title": {
            "standoff": 15
           },
           "zerolinecolor": "white",
           "zerolinewidth": 2
          }
         }
        },
        "title": {
         "text": "Rank to Team Value ",
         "x": 0.5,
         "xanchor": "center",
         "y": 0.9,
         "yanchor": "top"
        },
        "xaxis": {
         "anchor": "y",
         "autorange": "reversed",
         "domain": [
          0,
          1
         ],
         "title": {
          "text": "Euro 2020 Ranking"
         }
        },
        "yaxis": {
         "anchor": "x",
         "domain": [
          0,
          1
         ],
         "title": {
          "text": "Team Market value (millions) (£)"
         }
        }
       }
      }
     },
     "metadata": {},
     "output_type": "display_data"
    },
    {
     "data": {
      "application/vnd.plotly.v1+json": {
       "config": {
        "plotlyServerURL": "https://plot.ly"
       },
       "data": [
        {
         "hovertemplate": "<b>%{hovertext}</b><br><br>Euro 2020 Ranking=%{x}<br>avg_market_value=%{y}<br>Team Market value (millions) (£)=%{marker.size}<extra></extra>",
         "hovertext": [
          "Italy",
          "England",
          "Spain",
          "France",
          "Netherlands",
          "Germany",
          "Croatia",
          "Turkey",
          "Belgium",
          "Portugal",
          "Poland",
          "Denmark",
          "Ukraine",
          "Switzerland",
          "Czech Republic",
          "Scotland",
          "Austria",
          "Russia",
          "Sweden",
          "North Macedonia",
          "Finland",
          "Hungary",
          "Wales",
          "Slovakia"
         ],
         "legendgroup": "",
         "marker": {
          "color": "#636efa",
          "size": [
           629.1,
           1030,
           635.4,
           877.32,
           617.85,
           808.65,
           292.5,
           264.24,
           448.2,
           593.55,
           235.35,
           266.18,
           182.52,
           147.69,
           125.19,
           217.8,
           192.51,
           174.65,
           150.48,
           42.64,
           33.17,
           96.17,
           112.59,
           111.87
          ],
          "sizemode": "area",
          "sizeref": 2.575,
          "symbol": "circle"
         },
         "mode": "markers",
         "name": "",
         "orientation": "v",
         "showlegend": false,
         "type": "scatter",
         "x": [
          1,
          2,
          4,
          9,
          11,
          12,
          13,
          24,
          5,
          10,
          21,
          3,
          8,
          7,
          6,
          22,
          14,
          19,
          15,
          23,
          18,
          17,
          16,
          20
         ],
         "xaxis": "x",
         "y": [
          28.6,
          42.75,
          27.63,
          38.14,
          22.88,
          35.16,
          12.19,
          11.01,
          22.41,
          25.81,
          9.41,
          11.57,
          7.3,
          6.71,
          5.44,
          8.38,
          8.37,
          5.14,
          6.27,
          1.71,
          1.38,
          3.85,
          4.33,
          4.14
         ],
         "yaxis": "y"
        },
        {
         "hovertemplate": "<b>OLS trendline</b><br>avg_market_value = -1.04577 * Rank + 27.6796<br>R<sup>2</sup>=0.354046<br><br>Euro 2020 Ranking=%{x}<br>avg_market_value=%{y} <b>(trend)</b><extra></extra>",
         "legendgroup": "",
         "marker": {
          "color": "#636efa",
          "symbol": "circle"
         },
         "mode": "lines",
         "name": "",
         "showlegend": false,
         "type": "scatter",
         "x": [
          1,
          2,
          3,
          4,
          5,
          6,
          7,
          8,
          9,
          10,
          11,
          12,
          13,
          14,
          15,
          16,
          17,
          18,
          19,
          20,
          21,
          22,
          23,
          24
         ],
         "xaxis": "x",
         "y": [
          26.633800000000008,
          25.588034782608702,
          24.5422695652174,
          23.496504347826093,
          22.45073913043479,
          21.404973913043484,
          20.359208695652182,
          19.31344347826088,
          18.267678260869573,
          17.221913043478267,
          16.176147826086964,
          15.130382608695662,
          14.084617391304358,
          13.038852173913053,
          11.993086956521749,
          10.947321739130444,
          9.901556521739142,
          8.855791304347836,
          7.810026086956533,
          6.764260869565227,
          5.7184956521739245,
          4.672730434782618,
          3.626965217391316,
          2.5812000000000133
         ],
         "yaxis": "y"
        }
       ],
       "layout": {
        "font": {
         "color": "Black",
         "family": "Courier New, monospace",
         "size": 14
        },
        "legend": {
         "itemsizing": "constant",
         "tracegroupgap": 0
        },
        "template": {
         "data": {
          "bar": [
           {
            "error_x": {
             "color": "#2a3f5f"
            },
            "error_y": {
             "color": "#2a3f5f"
            },
            "marker": {
             "line": {
              "color": "#E5ECF6",
              "width": 0.5
             },
             "pattern": {
              "fillmode": "overlay",
              "size": 10,
              "solidity": 0.2
             }
            },
            "type": "bar"
           }
          ],
          "barpolar": [
           {
            "marker": {
             "line": {
              "color": "#E5ECF6",
              "width": 0.5
             },
             "pattern": {
              "fillmode": "overlay",
              "size": 10,
              "solidity": 0.2
             }
            },
            "type": "barpolar"
           }
          ],
          "carpet": [
           {
            "aaxis": {
             "endlinecolor": "#2a3f5f",
             "gridcolor": "white",
             "linecolor": "white",
             "minorgridcolor": "white",
             "startlinecolor": "#2a3f5f"
            },
            "baxis": {
             "endlinecolor": "#2a3f5f",
             "gridcolor": "white",
             "linecolor": "white",
             "minorgridcolor": "white",
             "startlinecolor": "#2a3f5f"
            },
            "type": "carpet"
           }
          ],
          "choropleth": [
           {
            "colorbar": {
             "outlinewidth": 0,
             "ticks": ""
            },
            "type": "choropleth"
           }
          ],
          "contour": [
           {
            "colorbar": {
             "outlinewidth": 0,
             "ticks": ""
            },
            "colorscale": [
             [
              0,
              "#0d0887"
             ],
             [
              0.1111111111111111,
              "#46039f"
             ],
             [
              0.2222222222222222,
              "#7201a8"
             ],
             [
              0.3333333333333333,
              "#9c179e"
             ],
             [
              0.4444444444444444,
              "#bd3786"
             ],
             [
              0.5555555555555556,
              "#d8576b"
             ],
             [
              0.6666666666666666,
              "#ed7953"
             ],
             [
              0.7777777777777778,
              "#fb9f3a"
             ],
             [
              0.8888888888888888,
              "#fdca26"
             ],
             [
              1,
              "#f0f921"
             ]
            ],
            "type": "contour"
           }
          ],
          "contourcarpet": [
           {
            "colorbar": {
             "outlinewidth": 0,
             "ticks": ""
            },
            "type": "contourcarpet"
           }
          ],
          "heatmap": [
           {
            "colorbar": {
             "outlinewidth": 0,
             "ticks": ""
            },
            "colorscale": [
             [
              0,
              "#0d0887"
             ],
             [
              0.1111111111111111,
              "#46039f"
             ],
             [
              0.2222222222222222,
              "#7201a8"
             ],
             [
              0.3333333333333333,
              "#9c179e"
             ],
             [
              0.4444444444444444,
              "#bd3786"
             ],
             [
              0.5555555555555556,
              "#d8576b"
             ],
             [
              0.6666666666666666,
              "#ed7953"
             ],
             [
              0.7777777777777778,
              "#fb9f3a"
             ],
             [
              0.8888888888888888,
              "#fdca26"
             ],
             [
              1,
              "#f0f921"
             ]
            ],
            "type": "heatmap"
           }
          ],
          "heatmapgl": [
           {
            "colorbar": {
             "outlinewidth": 0,
             "ticks": ""
            },
            "colorscale": [
             [
              0,
              "#0d0887"
             ],
             [
              0.1111111111111111,
              "#46039f"
             ],
             [
              0.2222222222222222,
              "#7201a8"
             ],
             [
              0.3333333333333333,
              "#9c179e"
             ],
             [
              0.4444444444444444,
              "#bd3786"
             ],
             [
              0.5555555555555556,
              "#d8576b"
             ],
             [
              0.6666666666666666,
              "#ed7953"
             ],
             [
              0.7777777777777778,
              "#fb9f3a"
             ],
             [
              0.8888888888888888,
              "#fdca26"
             ],
             [
              1,
              "#f0f921"
             ]
            ],
            "type": "heatmapgl"
           }
          ],
          "histogram": [
           {
            "marker": {
             "pattern": {
              "fillmode": "overlay",
              "size": 10,
              "solidity": 0.2
             }
            },
            "type": "histogram"
           }
          ],
          "histogram2d": [
           {
            "colorbar": {
             "outlinewidth": 0,
             "ticks": ""
            },
            "colorscale": [
             [
              0,
              "#0d0887"
             ],
             [
              0.1111111111111111,
              "#46039f"
             ],
             [
              0.2222222222222222,
              "#7201a8"
             ],
             [
              0.3333333333333333,
              "#9c179e"
             ],
             [
              0.4444444444444444,
              "#bd3786"
             ],
             [
              0.5555555555555556,
              "#d8576b"
             ],
             [
              0.6666666666666666,
              "#ed7953"
             ],
             [
              0.7777777777777778,
              "#fb9f3a"
             ],
             [
              0.8888888888888888,
              "#fdca26"
             ],
             [
              1,
              "#f0f921"
             ]
            ],
            "type": "histogram2d"
           }
          ],
          "histogram2dcontour": [
           {
            "colorbar": {
             "outlinewidth": 0,
             "ticks": ""
            },
            "colorscale": [
             [
              0,
              "#0d0887"
             ],
             [
              0.1111111111111111,
              "#46039f"
             ],
             [
              0.2222222222222222,
              "#7201a8"
             ],
             [
              0.3333333333333333,
              "#9c179e"
             ],
             [
              0.4444444444444444,
              "#bd3786"
             ],
             [
              0.5555555555555556,
              "#d8576b"
             ],
             [
              0.6666666666666666,
              "#ed7953"
             ],
             [
              0.7777777777777778,
              "#fb9f3a"
             ],
             [
              0.8888888888888888,
              "#fdca26"
             ],
             [
              1,
              "#f0f921"
             ]
            ],
            "type": "histogram2dcontour"
           }
          ],
          "mesh3d": [
           {
            "colorbar": {
             "outlinewidth": 0,
             "ticks": ""
            },
            "type": "mesh3d"
           }
          ],
          "parcoords": [
           {
            "line": {
             "colorbar": {
              "outlinewidth": 0,
              "ticks": ""
             }
            },
            "type": "parcoords"
           }
          ],
          "pie": [
           {
            "automargin": true,
            "type": "pie"
           }
          ],
          "scatter": [
           {
            "marker": {
             "colorbar": {
              "outlinewidth": 0,
              "ticks": ""
             }
            },
            "type": "scatter"
           }
          ],
          "scatter3d": [
           {
            "line": {
             "colorbar": {
              "outlinewidth": 0,
              "ticks": ""
             }
            },
            "marker": {
             "colorbar": {
              "outlinewidth": 0,
              "ticks": ""
             }
            },
            "type": "scatter3d"
           }
          ],
          "scattercarpet": [
           {
            "marker": {
             "colorbar": {
              "outlinewidth": 0,
              "ticks": ""
             }
            },
            "type": "scattercarpet"
           }
          ],
          "scattergeo": [
           {
            "marker": {
             "colorbar": {
              "outlinewidth": 0,
              "ticks": ""
             }
            },
            "type": "scattergeo"
           }
          ],
          "scattergl": [
           {
            "marker": {
             "colorbar": {
              "outlinewidth": 0,
              "ticks": ""
             }
            },
            "type": "scattergl"
           }
          ],
          "scattermapbox": [
           {
            "marker": {
             "colorbar": {
              "outlinewidth": 0,
              "ticks": ""
             }
            },
            "type": "scattermapbox"
           }
          ],
          "scatterpolar": [
           {
            "marker": {
             "colorbar": {
              "outlinewidth": 0,
              "ticks": ""
             }
            },
            "type": "scatterpolar"
           }
          ],
          "scatterpolargl": [
           {
            "marker": {
             "colorbar": {
              "outlinewidth": 0,
              "ticks": ""
             }
            },
            "type": "scatterpolargl"
           }
          ],
          "scatterternary": [
           {
            "marker": {
             "colorbar": {
              "outlinewidth": 0,
              "ticks": ""
             }
            },
            "type": "scatterternary"
           }
          ],
          "surface": [
           {
            "colorbar": {
             "outlinewidth": 0,
             "ticks": ""
            },
            "colorscale": [
             [
              0,
              "#0d0887"
             ],
             [
              0.1111111111111111,
              "#46039f"
             ],
             [
              0.2222222222222222,
              "#7201a8"
             ],
             [
              0.3333333333333333,
              "#9c179e"
             ],
             [
              0.4444444444444444,
              "#bd3786"
             ],
             [
              0.5555555555555556,
              "#d8576b"
             ],
             [
              0.6666666666666666,
              "#ed7953"
             ],
             [
              0.7777777777777778,
              "#fb9f3a"
             ],
             [
              0.8888888888888888,
              "#fdca26"
             ],
             [
              1,
              "#f0f921"
             ]
            ],
            "type": "surface"
           }
          ],
          "table": [
           {
            "cells": {
             "fill": {
              "color": "#EBF0F8"
             },
             "line": {
              "color": "white"
             }
            },
            "header": {
             "fill": {
              "color": "#C8D4E3"
             },
             "line": {
              "color": "white"
             }
            },
            "type": "table"
           }
          ]
         },
         "layout": {
          "annotationdefaults": {
           "arrowcolor": "#2a3f5f",
           "arrowhead": 0,
           "arrowwidth": 1
          },
          "autotypenumbers": "strict",
          "coloraxis": {
           "colorbar": {
            "outlinewidth": 0,
            "ticks": ""
           }
          },
          "colorscale": {
           "diverging": [
            [
             0,
             "#8e0152"
            ],
            [
             0.1,
             "#c51b7d"
            ],
            [
             0.2,
             "#de77ae"
            ],
            [
             0.3,
             "#f1b6da"
            ],
            [
             0.4,
             "#fde0ef"
            ],
            [
             0.5,
             "#f7f7f7"
            ],
            [
             0.6,
             "#e6f5d0"
            ],
            [
             0.7,
             "#b8e186"
            ],
            [
             0.8,
             "#7fbc41"
            ],
            [
             0.9,
             "#4d9221"
            ],
            [
             1,
             "#276419"
            ]
           ],
           "sequential": [
            [
             0,
             "#0d0887"
            ],
            [
             0.1111111111111111,
             "#46039f"
            ],
            [
             0.2222222222222222,
             "#7201a8"
            ],
            [
             0.3333333333333333,
             "#9c179e"
            ],
            [
             0.4444444444444444,
             "#bd3786"
            ],
            [
             0.5555555555555556,
             "#d8576b"
            ],
            [
             0.6666666666666666,
             "#ed7953"
            ],
            [
             0.7777777777777778,
             "#fb9f3a"
            ],
            [
             0.8888888888888888,
             "#fdca26"
            ],
            [
             1,
             "#f0f921"
            ]
           ],
           "sequentialminus": [
            [
             0,
             "#0d0887"
            ],
            [
             0.1111111111111111,
             "#46039f"
            ],
            [
             0.2222222222222222,
             "#7201a8"
            ],
            [
             0.3333333333333333,
             "#9c179e"
            ],
            [
             0.4444444444444444,
             "#bd3786"
            ],
            [
             0.5555555555555556,
             "#d8576b"
            ],
            [
             0.6666666666666666,
             "#ed7953"
            ],
            [
             0.7777777777777778,
             "#fb9f3a"
            ],
            [
             0.8888888888888888,
             "#fdca26"
            ],
            [
             1,
             "#f0f921"
            ]
           ]
          },
          "colorway": [
           "#636efa",
           "#EF553B",
           "#00cc96",
           "#ab63fa",
           "#FFA15A",
           "#19d3f3",
           "#FF6692",
           "#B6E880",
           "#FF97FF",
           "#FECB52"
          ],
          "font": {
           "color": "#2a3f5f"
          },
          "geo": {
           "bgcolor": "white",
           "lakecolor": "white",
           "landcolor": "#E5ECF6",
           "showlakes": true,
           "showland": true,
           "subunitcolor": "white"
          },
          "hoverlabel": {
           "align": "left"
          },
          "hovermode": "closest",
          "mapbox": {
           "style": "light"
          },
          "paper_bgcolor": "white",
          "plot_bgcolor": "#E5ECF6",
          "polar": {
           "angularaxis": {
            "gridcolor": "white",
            "linecolor": "white",
            "ticks": ""
           },
           "bgcolor": "#E5ECF6",
           "radialaxis": {
            "gridcolor": "white",
            "linecolor": "white",
            "ticks": ""
           }
          },
          "scene": {
           "xaxis": {
            "backgroundcolor": "#E5ECF6",
            "gridcolor": "white",
            "gridwidth": 2,
            "linecolor": "white",
            "showbackground": true,
            "ticks": "",
            "zerolinecolor": "white"
           },
           "yaxis": {
            "backgroundcolor": "#E5ECF6",
            "gridcolor": "white",
            "gridwidth": 2,
            "linecolor": "white",
            "showbackground": true,
            "ticks": "",
            "zerolinecolor": "white"
           },
           "zaxis": {
            "backgroundcolor": "#E5ECF6",
            "gridcolor": "white",
            "gridwidth": 2,
            "linecolor": "white",
            "showbackground": true,
            "ticks": "",
            "zerolinecolor": "white"
           }
          },
          "shapedefaults": {
           "line": {
            "color": "#2a3f5f"
           }
          },
          "ternary": {
           "aaxis": {
            "gridcolor": "white",
            "linecolor": "white",
            "ticks": ""
           },
           "baxis": {
            "gridcolor": "white",
            "linecolor": "white",
            "ticks": ""
           },
           "bgcolor": "#E5ECF6",
           "caxis": {
            "gridcolor": "white",
            "linecolor": "white",
            "ticks": ""
           }
          },
          "title": {
           "x": 0.05
          },
          "xaxis": {
           "automargin": true,
           "gridcolor": "white",
           "linecolor": "white",
           "ticks": "",
           "title": {
            "standoff": 15
           },
           "zerolinecolor": "white",
           "zerolinewidth": 2
          },
          "yaxis": {
           "automargin": true,
           "gridcolor": "white",
           "linecolor": "white",
           "ticks": "",
           "title": {
            "standoff": 15
           },
           "zerolinecolor": "white",
           "zerolinewidth": 2
          }
         }
        },
        "title": {
         "text": "Rank to AVG Team Value ",
         "x": 0.5,
         "xanchor": "center",
         "y": 0.9,
         "yanchor": "top"
        },
        "xaxis": {
         "anchor": "y",
         "autorange": "reversed",
         "domain": [
          0,
          1
         ],
         "title": {
          "text": "Euro 2020 Ranking"
         }
        },
        "yaxis": {
         "anchor": "x",
         "domain": [
          0,
          1
         ],
         "title": {
          "text": "avg_market_value"
         }
        }
       }
      }
     },
     "metadata": {},
     "output_type": "display_data"
    },
    {
     "data": {
      "application/vnd.plotly.v1+json": {
       "config": {
        "plotlyServerURL": "https://plot.ly"
       },
       "data": [
        {
         "hovertemplate": "<b>%{hovertext}</b><br><br>Euro 2020 Ranking=%{x}<br>avg_age=%{y}<br>Team Market value (millions) (£)=%{marker.size}<extra></extra>",
         "hovertext": [
          "Italy",
          "England",
          "Spain",
          "France",
          "Netherlands",
          "Germany",
          "Croatia",
          "Turkey",
          "Belgium",
          "Portugal",
          "Poland",
          "Denmark",
          "Ukraine",
          "Switzerland",
          "Czech Republic",
          "Scotland",
          "Austria",
          "Russia",
          "Sweden",
          "North Macedonia",
          "Finland",
          "Hungary",
          "Wales",
          "Slovakia"
         ],
         "legendgroup": "",
         "marker": {
          "color": "#636efa",
          "size": [
           629.1,
           1030,
           635.4,
           877.32,
           617.85,
           808.65,
           292.5,
           264.24,
           448.2,
           593.55,
           235.35,
           266.18,
           182.52,
           147.69,
           125.19,
           217.8,
           192.51,
           174.65,
           150.48,
           42.64,
           33.17,
           96.17,
           112.59,
           111.87
          ],
          "sizemode": "area",
          "sizeref": 2.575,
          "symbol": "circle"
         },
         "mode": "markers",
         "name": "",
         "orientation": "v",
         "showlegend": false,
         "type": "scatter",
         "x": [
          1,
          2,
          4,
          9,
          11,
          12,
          13,
          24,
          5,
          10,
          21,
          3,
          8,
          7,
          6,
          22,
          14,
          19,
          15,
          23,
          18,
          17,
          16,
          20
         ],
         "xaxis": "x",
         "y": [
          22,
          24,
          23,
          23,
          27,
          23,
          24,
          24,
          20,
          23,
          25,
          23,
          25,
          22,
          23,
          26,
          23,
          34,
          24,
          25,
          24,
          25,
          26,
          27
         ],
         "yaxis": "y"
        },
        {
         "hovertemplate": "<b>OLS trendline</b><br>avg_age = 0.192609 * Rank + 21.9674<br>R<sup>2</sup>=0.270660<br><br>Euro 2020 Ranking=%{x}<br>avg_age=%{y} <b>(trend)</b><extra></extra>",
         "legendgroup": "",
         "marker": {
          "color": "#636efa",
          "symbol": "circle"
         },
         "mode": "lines",
         "name": "",
         "showlegend": false,
         "type": "scatter",
         "x": [
          1,
          2,
          3,
          4,
          5,
          6,
          7,
          8,
          9,
          10,
          11,
          12,
          13,
          14,
          15,
          16,
          17,
          18,
          19,
          20,
          21,
          22,
          23,
          24
         ],
         "xaxis": "x",
         "y": [
          22.16000000000001,
          22.352608695652183,
          22.54521739130436,
          22.73782608695653,
          22.930434782608707,
          23.12304347826088,
          23.315652173913055,
          23.508260869565227,
          23.700869565217403,
          23.89347826086958,
          24.08608695652175,
          24.278695652173923,
          24.4713043478261,
          24.663913043478274,
          24.856521739130446,
          25.049130434782622,
          25.241739130434794,
          25.43434782608697,
          25.626956521739142,
          25.819565217391318,
          26.01217391304349,
          26.204782608695666,
          26.397391304347842,
          26.590000000000014
         ],
         "yaxis": "y"
        }
       ],
       "layout": {
        "font": {
         "color": "Black",
         "family": "Courier New, monospace",
         "size": 14
        },
        "legend": {
         "itemsizing": "constant",
         "tracegroupgap": 0
        },
        "template": {
         "data": {
          "bar": [
           {
            "error_x": {
             "color": "#2a3f5f"
            },
            "error_y": {
             "color": "#2a3f5f"
            },
            "marker": {
             "line": {
              "color": "#E5ECF6",
              "width": 0.5
             },
             "pattern": {
              "fillmode": "overlay",
              "size": 10,
              "solidity": 0.2
             }
            },
            "type": "bar"
           }
          ],
          "barpolar": [
           {
            "marker": {
             "line": {
              "color": "#E5ECF6",
              "width": 0.5
             },
             "pattern": {
              "fillmode": "overlay",
              "size": 10,
              "solidity": 0.2
             }
            },
            "type": "barpolar"
           }
          ],
          "carpet": [
           {
            "aaxis": {
             "endlinecolor": "#2a3f5f",
             "gridcolor": "white",
             "linecolor": "white",
             "minorgridcolor": "white",
             "startlinecolor": "#2a3f5f"
            },
            "baxis": {
             "endlinecolor": "#2a3f5f",
             "gridcolor": "white",
             "linecolor": "white",
             "minorgridcolor": "white",
             "startlinecolor": "#2a3f5f"
            },
            "type": "carpet"
           }
          ],
          "choropleth": [
           {
            "colorbar": {
             "outlinewidth": 0,
             "ticks": ""
            },
            "type": "choropleth"
           }
          ],
          "contour": [
           {
            "colorbar": {
             "outlinewidth": 0,
             "ticks": ""
            },
            "colorscale": [
             [
              0,
              "#0d0887"
             ],
             [
              0.1111111111111111,
              "#46039f"
             ],
             [
              0.2222222222222222,
              "#7201a8"
             ],
             [
              0.3333333333333333,
              "#9c179e"
             ],
             [
              0.4444444444444444,
              "#bd3786"
             ],
             [
              0.5555555555555556,
              "#d8576b"
             ],
             [
              0.6666666666666666,
              "#ed7953"
             ],
             [
              0.7777777777777778,
              "#fb9f3a"
             ],
             [
              0.8888888888888888,
              "#fdca26"
             ],
             [
              1,
              "#f0f921"
             ]
            ],
            "type": "contour"
           }
          ],
          "contourcarpet": [
           {
            "colorbar": {
             "outlinewidth": 0,
             "ticks": ""
            },
            "type": "contourcarpet"
           }
          ],
          "heatmap": [
           {
            "colorbar": {
             "outlinewidth": 0,
             "ticks": ""
            },
            "colorscale": [
             [
              0,
              "#0d0887"
             ],
             [
              0.1111111111111111,
              "#46039f"
             ],
             [
              0.2222222222222222,
              "#7201a8"
             ],
             [
              0.3333333333333333,
              "#9c179e"
             ],
             [
              0.4444444444444444,
              "#bd3786"
             ],
             [
              0.5555555555555556,
              "#d8576b"
             ],
             [
              0.6666666666666666,
              "#ed7953"
             ],
             [
              0.7777777777777778,
              "#fb9f3a"
             ],
             [
              0.8888888888888888,
              "#fdca26"
             ],
             [
              1,
              "#f0f921"
             ]
            ],
            "type": "heatmap"
           }
          ],
          "heatmapgl": [
           {
            "colorbar": {
             "outlinewidth": 0,
             "ticks": ""
            },
            "colorscale": [
             [
              0,
              "#0d0887"
             ],
             [
              0.1111111111111111,
              "#46039f"
             ],
             [
              0.2222222222222222,
              "#7201a8"
             ],
             [
              0.3333333333333333,
              "#9c179e"
             ],
             [
              0.4444444444444444,
              "#bd3786"
             ],
             [
              0.5555555555555556,
              "#d8576b"
             ],
             [
              0.6666666666666666,
              "#ed7953"
             ],
             [
              0.7777777777777778,
              "#fb9f3a"
             ],
             [
              0.8888888888888888,
              "#fdca26"
             ],
             [
              1,
              "#f0f921"
             ]
            ],
            "type": "heatmapgl"
           }
          ],
          "histogram": [
           {
            "marker": {
             "pattern": {
              "fillmode": "overlay",
              "size": 10,
              "solidity": 0.2
             }
            },
            "type": "histogram"
           }
          ],
          "histogram2d": [
           {
            "colorbar": {
             "outlinewidth": 0,
             "ticks": ""
            },
            "colorscale": [
             [
              0,
              "#0d0887"
             ],
             [
              0.1111111111111111,
              "#46039f"
             ],
             [
              0.2222222222222222,
              "#7201a8"
             ],
             [
              0.3333333333333333,
              "#9c179e"
             ],
             [
              0.4444444444444444,
              "#bd3786"
             ],
             [
              0.5555555555555556,
              "#d8576b"
             ],
             [
              0.6666666666666666,
              "#ed7953"
             ],
             [
              0.7777777777777778,
              "#fb9f3a"
             ],
             [
              0.8888888888888888,
              "#fdca26"
             ],
             [
              1,
              "#f0f921"
             ]
            ],
            "type": "histogram2d"
           }
          ],
          "histogram2dcontour": [
           {
            "colorbar": {
             "outlinewidth": 0,
             "ticks": ""
            },
            "colorscale": [
             [
              0,
              "#0d0887"
             ],
             [
              0.1111111111111111,
              "#46039f"
             ],
             [
              0.2222222222222222,
              "#7201a8"
             ],
             [
              0.3333333333333333,
              "#9c179e"
             ],
             [
              0.4444444444444444,
              "#bd3786"
             ],
             [
              0.5555555555555556,
              "#d8576b"
             ],
             [
              0.6666666666666666,
              "#ed7953"
             ],
             [
              0.7777777777777778,
              "#fb9f3a"
             ],
             [
              0.8888888888888888,
              "#fdca26"
             ],
             [
              1,
              "#f0f921"
             ]
            ],
            "type": "histogram2dcontour"
           }
          ],
          "mesh3d": [
           {
            "colorbar": {
             "outlinewidth": 0,
             "ticks": ""
            },
            "type": "mesh3d"
           }
          ],
          "parcoords": [
           {
            "line": {
             "colorbar": {
              "outlinewidth": 0,
              "ticks": ""
             }
            },
            "type": "parcoords"
           }
          ],
          "pie": [
           {
            "automargin": true,
            "type": "pie"
           }
          ],
          "scatter": [
           {
            "marker": {
             "colorbar": {
              "outlinewidth": 0,
              "ticks": ""
             }
            },
            "type": "scatter"
           }
          ],
          "scatter3d": [
           {
            "line": {
             "colorbar": {
              "outlinewidth": 0,
              "ticks": ""
             }
            },
            "marker": {
             "colorbar": {
              "outlinewidth": 0,
              "ticks": ""
             }
            },
            "type": "scatter3d"
           }
          ],
          "scattercarpet": [
           {
            "marker": {
             "colorbar": {
              "outlinewidth": 0,
              "ticks": ""
             }
            },
            "type": "scattercarpet"
           }
          ],
          "scattergeo": [
           {
            "marker": {
             "colorbar": {
              "outlinewidth": 0,
              "ticks": ""
             }
            },
            "type": "scattergeo"
           }
          ],
          "scattergl": [
           {
            "marker": {
             "colorbar": {
              "outlinewidth": 0,
              "ticks": ""
             }
            },
            "type": "scattergl"
           }
          ],
          "scattermapbox": [
           {
            "marker": {
             "colorbar": {
              "outlinewidth": 0,
              "ticks": ""
             }
            },
            "type": "scattermapbox"
           }
          ],
          "scatterpolar": [
           {
            "marker": {
             "colorbar": {
              "outlinewidth": 0,
              "ticks": ""
             }
            },
            "type": "scatterpolar"
           }
          ],
          "scatterpolargl": [
           {
            "marker": {
             "colorbar": {
              "outlinewidth": 0,
              "ticks": ""
             }
            },
            "type": "scatterpolargl"
           }
          ],
          "scatterternary": [
           {
            "marker": {
             "colorbar": {
              "outlinewidth": 0,
              "ticks": ""
             }
            },
            "type": "scatterternary"
           }
          ],
          "surface": [
           {
            "colorbar": {
             "outlinewidth": 0,
             "ticks": ""
            },
            "colorscale": [
             [
              0,
              "#0d0887"
             ],
             [
              0.1111111111111111,
              "#46039f"
             ],
             [
              0.2222222222222222,
              "#7201a8"
             ],
             [
              0.3333333333333333,
              "#9c179e"
             ],
             [
              0.4444444444444444,
              "#bd3786"
             ],
             [
              0.5555555555555556,
              "#d8576b"
             ],
             [
              0.6666666666666666,
              "#ed7953"
             ],
             [
              0.7777777777777778,
              "#fb9f3a"
             ],
             [
              0.8888888888888888,
              "#fdca26"
             ],
             [
              1,
              "#f0f921"
             ]
            ],
            "type": "surface"
           }
          ],
          "table": [
           {
            "cells": {
             "fill": {
              "color": "#EBF0F8"
             },
             "line": {
              "color": "white"
             }
            },
            "header": {
             "fill": {
              "color": "#C8D4E3"
             },
             "line": {
              "color": "white"
             }
            },
            "type": "table"
           }
          ]
         },
         "layout": {
          "annotationdefaults": {
           "arrowcolor": "#2a3f5f",
           "arrowhead": 0,
           "arrowwidth": 1
          },
          "autotypenumbers": "strict",
          "coloraxis": {
           "colorbar": {
            "outlinewidth": 0,
            "ticks": ""
           }
          },
          "colorscale": {
           "diverging": [
            [
             0,
             "#8e0152"
            ],
            [
             0.1,
             "#c51b7d"
            ],
            [
             0.2,
             "#de77ae"
            ],
            [
             0.3,
             "#f1b6da"
            ],
            [
             0.4,
             "#fde0ef"
            ],
            [
             0.5,
             "#f7f7f7"
            ],
            [
             0.6,
             "#e6f5d0"
            ],
            [
             0.7,
             "#b8e186"
            ],
            [
             0.8,
             "#7fbc41"
            ],
            [
             0.9,
             "#4d9221"
            ],
            [
             1,
             "#276419"
            ]
           ],
           "sequential": [
            [
             0,
             "#0d0887"
            ],
            [
             0.1111111111111111,
             "#46039f"
            ],
            [
             0.2222222222222222,
             "#7201a8"
            ],
            [
             0.3333333333333333,
             "#9c179e"
            ],
            [
             0.4444444444444444,
             "#bd3786"
            ],
            [
             0.5555555555555556,
             "#d8576b"
            ],
            [
             0.6666666666666666,
             "#ed7953"
            ],
            [
             0.7777777777777778,
             "#fb9f3a"
            ],
            [
             0.8888888888888888,
             "#fdca26"
            ],
            [
             1,
             "#f0f921"
            ]
           ],
           "sequentialminus": [
            [
             0,
             "#0d0887"
            ],
            [
             0.1111111111111111,
             "#46039f"
            ],
            [
             0.2222222222222222,
             "#7201a8"
            ],
            [
             0.3333333333333333,
             "#9c179e"
            ],
            [
             0.4444444444444444,
             "#bd3786"
            ],
            [
             0.5555555555555556,
             "#d8576b"
            ],
            [
             0.6666666666666666,
             "#ed7953"
            ],
            [
             0.7777777777777778,
             "#fb9f3a"
            ],
            [
             0.8888888888888888,
             "#fdca26"
            ],
            [
             1,
             "#f0f921"
            ]
           ]
          },
          "colorway": [
           "#636efa",
           "#EF553B",
           "#00cc96",
           "#ab63fa",
           "#FFA15A",
           "#19d3f3",
           "#FF6692",
           "#B6E880",
           "#FF97FF",
           "#FECB52"
          ],
          "font": {
           "color": "#2a3f5f"
          },
          "geo": {
           "bgcolor": "white",
           "lakecolor": "white",
           "landcolor": "#E5ECF6",
           "showlakes": true,
           "showland": true,
           "subunitcolor": "white"
          },
          "hoverlabel": {
           "align": "left"
          },
          "hovermode": "closest",
          "mapbox": {
           "style": "light"
          },
          "paper_bgcolor": "white",
          "plot_bgcolor": "#E5ECF6",
          "polar": {
           "angularaxis": {
            "gridcolor": "white",
            "linecolor": "white",
            "ticks": ""
           },
           "bgcolor": "#E5ECF6",
           "radialaxis": {
            "gridcolor": "white",
            "linecolor": "white",
            "ticks": ""
           }
          },
          "scene": {
           "xaxis": {
            "backgroundcolor": "#E5ECF6",
            "gridcolor": "white",
            "gridwidth": 2,
            "linecolor": "white",
            "showbackground": true,
            "ticks": "",
            "zerolinecolor": "white"
           },
           "yaxis": {
            "backgroundcolor": "#E5ECF6",
            "gridcolor": "white",
            "gridwidth": 2,
            "linecolor": "white",
            "showbackground": true,
            "ticks": "",
            "zerolinecolor": "white"
           },
           "zaxis": {
            "backgroundcolor": "#E5ECF6",
            "gridcolor": "white",
            "gridwidth": 2,
            "linecolor": "white",
            "showbackground": true,
            "ticks": "",
            "zerolinecolor": "white"
           }
          },
          "shapedefaults": {
           "line": {
            "color": "#2a3f5f"
           }
          },
          "ternary": {
           "aaxis": {
            "gridcolor": "white",
            "linecolor": "white",
            "ticks": ""
           },
           "baxis": {
            "gridcolor": "white",
            "linecolor": "white",
            "ticks": ""
           },
           "bgcolor": "#E5ECF6",
           "caxis": {
            "gridcolor": "white",
            "linecolor": "white",
            "ticks": ""
           }
          },
          "title": {
           "x": 0.05
          },
          "xaxis": {
           "automargin": true,
           "gridcolor": "white",
           "linecolor": "white",
           "ticks": "",
           "title": {
            "standoff": 15
           },
           "zerolinecolor": "white",
           "zerolinewidth": 2
          },
          "yaxis": {
           "automargin": true,
           "gridcolor": "white",
           "linecolor": "white",
           "ticks": "",
           "title": {
            "standoff": 15
           },
           "zerolinecolor": "white",
           "zerolinewidth": 2
          }
         }
        },
        "title": {
         "text": "Rank to AVG Team Age ",
         "x": 0.5,
         "xanchor": "center",
         "y": 0.9,
         "yanchor": "top"
        },
        "xaxis": {
         "anchor": "y",
         "autorange": "reversed",
         "domain": [
          0,
          1
         ],
         "title": {
          "text": "Euro 2020 Ranking"
         }
        },
        "yaxis": {
         "anchor": "x",
         "domain": [
          0,
          1
         ],
         "title": {
          "text": "avg_age"
         }
        }
       }
      }
     },
     "metadata": {},
     "output_type": "display_data"
    }
   ],
   "source": [
    "import plotly.express as px\n",
    "import matplotlib\n",
    "\n",
    "\n",
    "fig = px.scatter(JOIN, x=\"Rank\", y=\"market_value\",trendline=\"ols\", hover_name= \"Team\" ,size='market_value', title=\"Rank to Team Value \",labels={\n",
    "                     \"Rank\": \"Euro 2020 Ranking\",\n",
    "                     \"market_value\": \"Team Market value (millions) (£)\",\n",
    "                     \"market_value_Quartile\": \"Value Quartile\"\n",
    "                 },)\n",
    "\n",
    "fig2 = px.scatter(JOIN, x=\"Rank\", y=\"avg_market_value\",trendline=\"ols\", hover_name= \"Team\" ,size='market_value', title=\"Rank to AVG Team Value \",labels={\n",
    "                     \"Rank\": \"Euro 2020 Ranking\",\n",
    "                     \"market_value\": \"Team Market value (millions) (£)\",\n",
    "                     \"market_value_Quartile\": \"Value Quartile\"\n",
    "                 },)\n",
    "\n",
    "fig3 = px.scatter(JOIN, x=\"Rank\", y=\"avg_age\",trendline=\"ols\", hover_name= \"Team\" ,size='market_value', title=\"Rank to AVG Team Age \",labels={\n",
    "                     \"Rank\": \"Euro 2020 Ranking\",\n",
    "                     \"market_value\": \"Team Market value (millions) (£)\",\n",
    "                     \"market_value_Quartile\": \"Value Quartile\"\n",
    "                 },)\n",
    "                 \n",
    "\n",
    "# fig.update_layout(color=\"green\" if \"market_value_Quartile\" == 'Q1' else \"red\")\n",
    "# color=\"market_value_Quartile\" \n",
    "\n",
    "# fig.update_traces(marker=dict( color='red' ))\n",
    "\n",
    "fig.update_layout(\n",
    "    font=dict(\n",
    "        family=\"Courier New, monospace\",\n",
    "        size=14,\n",
    "        color=\"black\"\n",
    "    ),\n",
    "    title={\n",
    "        'y':0.9,\n",
    "        'x':0.5,\n",
    "        'xanchor': 'center',\n",
    "        'yanchor': 'top'}\n",
    ")\n",
    "\n",
    "fig2.update_layout(\n",
    "    font=dict(\n",
    "        family=\"Courier New, monospace\",\n",
    "        size=14,\n",
    "        color=\"Black\"\n",
    "    ),\n",
    "    title={\n",
    "        'y':0.9,\n",
    "        'x':0.5,\n",
    "        'xanchor': 'center',\n",
    "        'yanchor': 'top'}\n",
    ")\n",
    "\n",
    "fig3.update_layout(\n",
    "    font=dict(\n",
    "        family=\"Courier New, monospace\",\n",
    "        size=14,\n",
    "        color=\"Black\"\n",
    "    ),\n",
    "    title={\n",
    "        'y':0.9,\n",
    "        'x':0.5,\n",
    "        'xanchor': 'center',\n",
    "        'yanchor': 'top'}\n",
    ")\n",
    "\n",
    "\n",
    "\n",
    "# To reverse x axis\n",
    "fig.update_xaxes(autorange=\"reversed\")\n",
    "fig2.update_xaxes(autorange=\"reversed\")\n",
    "fig3.update_xaxes(autorange=\"reversed\")\n",
    "\n",
    "\n",
    "fig.show()\n",
    "fig2.show()\n",
    "fig3.show()\n",
    "\n",
    "fig.write_image(\"Rank to Team Value.png\")\n",
    "fig2.write_image(\"Rank to AVG Team Value.png\")\n",
    "fig3.write_image(\"Rank to AVG Team Age.png\")"
   ]
  },
  {
   "cell_type": "code",
   "execution_count": null,
   "metadata": {},
   "outputs": [],
   "source": [
    "\n",
    "# TO DO! \n",
    "\n",
    "# Comment code\n",
    "# Presentation\n",
    "\n",
    "# Had tp install pip install -U kaleido to be able to save plotly as png\n"
   ]
  }
 ],
 "metadata": {
  "interpreter": {
   "hash": "b3ba2566441a7c06988d0923437866b63cedc61552a5af99d1f4fb67d367b25f"
  },
  "kernelspec": {
   "display_name": "Python 3.8.12 64-bit ('base': conda)",
   "name": "python3"
  },
  "language_info": {
   "codemirror_mode": {
    "name": "ipython",
    "version": 3
   },
   "file_extension": ".py",
   "mimetype": "text/x-python",
   "name": "python",
   "nbconvert_exporter": "python",
   "pygments_lexer": "ipython3",
   "version": "3.8.12"
  },
  "orig_nbformat": 4
 },
 "nbformat": 4,
 "nbformat_minor": 2
}
